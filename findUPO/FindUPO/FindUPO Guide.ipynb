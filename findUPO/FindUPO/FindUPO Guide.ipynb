{
 "cells": [
  {
   "cell_type": "markdown",
   "metadata": {},
   "source": [
    "# FindUPO Guide\n",
    "------------------------------\n",
    "alexei.stepa@gmail.com"
   ]
  },
  {
   "cell_type": "code",
   "execution_count": 1,
   "metadata": {
    "collapsed": false
   },
   "outputs": [],
   "source": [
    "import chaos_control as cc\n",
    "from math import *\n",
    "import matplotlib.pyplot as plt\n",
    "import numpy as np"
   ]
  },
  {
   "cell_type": "markdown",
   "metadata": {},
   "source": [
    "## Abstract"
   ]
  },
  {
   "cell_type": "markdown",
   "metadata": {},
   "source": [
    "`FindUPO` is a tool designed to find accurate estimates for periodic orbits and fixed points of chaotic maps. It does this by obtaining guesses for the location of fixed points by identifying clusters of reccuring points using a machine learning algorithm then uses local optimisation to turn the guesses into accurate estimates. Accurate estimates of UPOs in chaotic systems can be used, for example, in the control of chaotic systems or to make long-time predictions of dynamical averages.\n",
    "http://www.scholarpedia.org/article/Unstable_periodic_orbits\n",
    "http://yorke.umd.edu/Yorke_papers_most_cited_and_post2000/1990_06_OGY_PRL_Controlling_chaos.pdf"
   ]
  },
  {
   "cell_type": "markdown",
   "metadata": {},
   "source": [
    "## Introduction"
   ]
  },
  {
   "cell_type": "markdown",
   "metadata": {},
   "source": [
    "Firstly, if the system you are interested in finding periodic orbits of is a continous dynamical system, you need to convert it into a map by taking a Poincare section. Fixed points and periodic orbits of the Poincare map correspond to periodic orbits of system of ODEs. The map must display ergodic behaviour, meaning that for some region of the state space and any point in that region the system will come arbitrarily close to that point, given enough time. This means that the system will eventually come arbitrarily close to fixed points. Since points close to the fixed point move only slightly after an application of the map this gives us an indication of the presence of the fixed point, even if that fixed point is unstable. This is sometimes known as the phenomena of reccurence. \n",
    "\n",
    "To explain reccurence mathematically, consider a continuous chaotic map $ f:M \\to M $ with a fixed points $ x^{*} \\in M$. The (squared) distance that a point in the state space moves is given by the function $ \\Delta = |x - f(x)|^{2} $. At the fixed point, $x^{*} = f(x^{*})$, so, $\\Delta (x^{*})=0 $. The map is assumed ergodic so given any nhood $U$ of $x^{*}$ and any $x \\in M$, $x$ will eventually enter $U$ (i.e. there exists $n \\in \\mathbb{N}$ such that $ f^{n}(x)\\in U $). Since, $f$ is continuous, $\\Delta$ is also continuous. This means that long enough chaotic time series will eventually enter a region where $\\Delta$ is arbritrarily small. Since the map is chaotic and all the fixed points are assumed unstable, the trajectory will exit and reenter these sort of regions many times, leading to clusters reccuring points in long chaotic timeseries.\n",
    "\n",
    "To identify these clusters we simply plot the points from a long timeseries for which $ \\Delta $  is below a certian **threshold** value. In the code, the variable name for this value is `thres`. Obtaining a good value for `thres` is important for a good UPO (Unstable Periodic Orbit) search. For higher period orbits (note that a periodic orbit of length $n$ is a fixed point of the $n$th iterate of the map) there may be many clusters and it becomes cumbersome to identify them by hand. Instead we can use clustering algorithms such that scikitlearn meanshift to identify them for us. The clustering algorithm requires one variable, the **bandwidth**, whose variable name is `band`. The bandwidth determines the size of the clusters the algorithm identifies. In general, larger values of the bandwidth corresponds to larger  The `ClustPlt` widget is designed to make it easy to find good values for `band` and `thres`.\n",
    "\n",
    "Once these values are obtained, you pass them as arguements in `FindUPO` along with a formatted time series (see `Load_Cut` or `Cut`). The code identifies the point in each cluster with the smallest $\\Delta$ and uses that as a first estimate for a local optimisation procedure (scipy minimise) using $ \\Delta $ as a cost function. The code then strings together all the estimates in periodic orbits and out puts a nested list of all the UPOs (which we call a UPOlist). "
   ]
  },
  {
   "cell_type": "markdown",
   "metadata": {},
   "source": [
    "## How to use it: the short version"
   ]
  },
  {
   "cell_type": "markdown",
   "metadata": {},
   "source": [
    "To use `FindUPO` you must have Jupyter installed (`pip install Jupyter`) as well at the following python packages (`pip install [package name here]`):"
   ]
  },
  {
   "cell_type": "code",
   "execution_count": 2,
   "metadata": {
    "collapsed": true
   },
   "outputs": [],
   "source": [
    "import numpy as np\n",
    "import scipy\n",
    "import sklearn\n",
    "import pandas as pd"
   ]
  },
  {
   "cell_type": "markdown",
   "metadata": {},
   "source": [
    "You should also have 'chaos_control.py' in the same directory as the Jupyter notebook you are working in. Note if you've never used Jupyter: shift-Enter to run a code block.\n",
    "\n",
    "1. Define the map as a function in python. \n",
    "2. Create a long time series either as csv or a python list/array. \n",
    "3. Create a 'cut list' using `Load_Cut` or `Cut`. This appends the $\\Delta$ value to each point and selects those with $\\Delta$ less than a `cutoff` value. \n",
    "4. Identify `thres` and `band` values for the cut list using `ClustPlt`. Adjust the sliders until you identify clusters which are all distinct colours. \n",
    "5. Run `FindUPO` using the cut list and values for `thres` and `band` to obtain the UPOs for a specific length. \n",
    "6. You can then join together different UPOlists using `appendUPOlist`, save a UPOlist using `saveUPOlist` or convert a UPOlist to a mathematica list using `toMathematica`.\n",
    "\n",
    "If you have any questions or find any bugs, don't hesitate to email me!"
   ]
  },
  {
   "cell_type": "markdown",
   "metadata": {},
   "source": [
    "## Example: The standard map"
   ]
  },
  {
   "cell_type": "markdown",
   "metadata": {},
   "source": [
    "The standard map is a good example to study because it is analytically defined yet is physically important,\n",
    "http://www.scholarpedia.org/article/Chirikov_standard_map"
   ]
  },
  {
   "cell_type": "code",
   "execution_count": 3,
   "metadata": {
    "collapsed": true
   },
   "outputs": [],
   "source": [
    "def stmap(r,K=5.6):\n",
    "    pnxt = r[1] + K*sin(r[0])\n",
    "    xnxt = r[0] + pnxt    \n",
    "    return [xnxt%(2*pi),pnxt%(2*pi) ]\n",
    "\n",
    "\n",
    "def stmapLst(r0,n,K=5.6):\n",
    "    out = [r0]\n",
    "    for i in range(n):\n",
    "        out.append(stmap(out[-1],K))\n",
    "    return out"
   ]
  },
  {
   "cell_type": "code",
   "execution_count": 4,
   "metadata": {
    "collapsed": false
   },
   "outputs": [
    {
     "data": {
      "image/png": "[encoded data removed]",
      "text/plain": [
       "<matplotlib.figure.Figure at 0x1cf355c9198>"
      ]
     },
     "metadata": {},
     "output_type": "display_data"
    }
   ],
   "source": [
    "stmapdata = stmapLst([0.1,0.2],200000) \n",
    "plt.scatter(np.transpose(stmapdata)[0],np.transpose(stmapdata)[1],marker = '.',s=1)\n",
    "plt.show()"
   ]
  },
  {
   "cell_type": "markdown",
   "metadata": {},
   "source": [
    "Above, we can see the Poincare section for the standard map. For high enough value of K, the natural density for the system is fairly flat. The system variables are periodic mod $2 \\pi$."
   ]
  },
  {
   "cell_type": "markdown",
   "metadata": {},
   "source": [
    "### Fixed Points"
   ]
  },
  {
   "cell_type": "markdown",
   "metadata": {},
   "source": [
    "To find the fixed points for the system, we first need to create a cut list. This will remove points for which $\\Delta$ is more than 0.1 and append $ \\Delta$ to each datapoint."
   ]
  },
  {
   "cell_type": "code",
   "execution_count": 5,
   "metadata": {
    "collapsed": true
   },
   "outputs": [],
   "source": [
    "cutdata1 = cc.Cut(data=stmapdata,cutoff=0.1,n=1)"
   ]
  },
  {
   "cell_type": "markdown",
   "metadata": {},
   "source": [
    "We can then use `ClustPlt` to find values for threshold `thres` and the bandwidth `band`. Optional arguments `thresopt = [min,max,step]` and `bandopt = [min,max,step]` allow us to set the minimum, maximum and step size for the sliders for `thres` or `band` respectively in the widget. We found a threshold 0f 0.014 and and a bandwidth of 0.25 to work well. "
   ]
  },
  {
   "cell_type": "code",
   "execution_count": 6,
   "metadata": {
    "collapsed": false
   },
   "outputs": [
    {
     "data": {
      "image/png": "[encoded data removed]",
      "text/plain": [
       "<matplotlib.figure.Figure at 0x1cf3b7a92b0>"
      ]
     },
     "metadata": {},
     "output_type": "display_data"
    },
    {
     "name": "stdout",
     "output_type": "stream",
     "text": [
      "Total number of points:  88\n",
      "Number of clusters:  6\n",
      "Threshold:  0.03\n",
      "Bandwidth:  0.244\n"
     ]
    }
   ],
   "source": [
    "cc.ClustPlt(cutdata1,thresopt = [0,0.1,0.001])"
   ]
  },
  {
   "cell_type": "markdown",
   "metadata": {},
   "source": [
    "We then use `cutdata1` and the values for the threshold and bandwidth for `FindUPO`. We also need to specidy that we are searching for fixed points (`n=1`) and that the map we are using (`pmap=stmap`). "
   ]
  },
  {
   "cell_type": "code",
   "execution_count": 7,
   "metadata": {
    "collapsed": false
   },
   "outputs": [],
   "source": [
    "UPOfixed = cc.FindUPO(data=cutdata1, n=1, thres=0.014, band=0.25, pmap = stmap)"
   ]
  },
  {
   "cell_type": "code",
   "execution_count": 8,
   "metadata": {
    "collapsed": false
   },
   "outputs": [
    {
     "data": {
      "text/plain": [
       "[[1, [[3.1415919361116815, 6.283177500984194]]],\n",
       " [1, [[3.1415926949135557, 3.9782884558341104e-07]]],\n",
       " [1, [[-7.186795672996014e-07, 7.891339378900052e-06]]],\n",
       " [1, [[6.2831856272909, 6.283181669549119]]],\n",
       " [1, [[6.2831845574195695, 4.831382754025577e-06]]],\n",
       " [1, [[1.1689946964124786e-06, 6.283177593139955]]]]"
      ]
     },
     "execution_count": 8,
     "metadata": {},
     "output_type": "execute_result"
    }
   ],
   "source": [
    "UPOfixed"
   ]
  },
  {
   "cell_type": "markdown",
   "metadata": {},
   "source": [
    "Above, we see the results. If you solve for the fixed points analytically, you find that there are two fixed points $(0,0)$ and $(\\pi,0)$. Since these are exactly on the boundary the algorithm finds fixedpoints either side of the boundary. In general,this will no occur because the boundary is a set of measure zero. We simply choose 2 in this case."
   ]
  },
  {
   "cell_type": "code",
   "execution_count": 9,
   "metadata": {
    "collapsed": false
   },
   "outputs": [],
   "source": [
    "UPOfixed = [UPOfixed[1],UPOfixed[3]]"
   ]
  },
  {
   "cell_type": "code",
   "execution_count": 10,
   "metadata": {
    "collapsed": false
   },
   "outputs": [
    {
     "data": {
      "text/plain": [
       "[[1, [[3.1415926949135557, 3.9782884558341104e-07]]],\n",
       " [1, [[6.2831856272909, 6.283181669549119]]]]"
      ]
     },
     "execution_count": 10,
     "metadata": {},
     "output_type": "execute_result"
    }
   ],
   "source": [
    "UPOfixed"
   ]
  },
  {
   "cell_type": "markdown",
   "metadata": {},
   "source": [
    "### Higher periodic orbits"
   ]
  },
  {
   "cell_type": "markdown",
   "metadata": {},
   "source": [
    "A good strategy for searching for periodic orbits of various lengths is to find values for `thres` and `band` that work for a some lower period and for some higher period, then just use those values for all periods inbetween the lower and higher period. For example, here we find a value that works for n = 2 and n = 22 to try to find UPOs up to length 22. \n",
    "\n",
    "First we need make a long trajectory."
   ]
  },
  {
   "cell_type": "code",
   "execution_count": 11,
   "metadata": {
    "collapsed": false
   },
   "outputs": [],
   "source": [
    "cc.ExportTimeSeries(filename = 'stmapdata.csv',r0 = [0.1,0.1],n=2000000,pmapLst=stmapLst)"
   ]
  },
  {
   "cell_type": "markdown",
   "metadata": {},
   "source": [
    "Next, we create a list full of cut lists of all the different period lengths, e.g. `cutdata[2]` is a cut list for period 4. "
   ]
  },
  {
   "cell_type": "code",
   "execution_count": 12,
   "metadata": {
    "collapsed": false
   },
   "outputs": [],
   "source": [
    "cutdata = []\n",
    "for i in range(21):\n",
    "    cutdata.append(cc.Load_Cut('stmapdata.csv',0.1,i+2))"
   ]
  },
  {
   "cell_type": "code",
   "execution_count": 13,
   "metadata": {
    "collapsed": false
   },
   "outputs": [
    {
     "data": {
      "image/png": "[encoded data removed]",
      "text/plain": [
       "<matplotlib.figure.Figure at 0x1cf3f898f60>"
      ]
     },
     "metadata": {},
     "output_type": "display_data"
    },
    {
     "name": "stdout",
     "output_type": "stream",
     "text": [
      "Total number of points:  1029\n",
      "Number of clusters:  229\n",
      "Threshold:  0.057999999999999996\n",
      "Bandwidth:  0.02\n"
     ]
    }
   ],
   "source": [
    "cc.ClustPlt(cutdata[0],thresopt = [0,0.1,0.001],bandopt = [0,2,0.01] )"
   ]
  },
  {
   "cell_type": "code",
   "execution_count": 14,
   "metadata": {
    "collapsed": false
   },
   "outputs": [
    {
     "data": {
      "image/png": "[encoded data removed]",
      "text/plain": [
       "<matplotlib.figure.Figure at 0x1cf3d7cbef0>"
      ]
     },
     "metadata": {},
     "output_type": "display_data"
    },
    {
     "name": "stdout",
     "output_type": "stream",
     "text": [
      "Total number of points:  1913\n",
      "Number of clusters:  802\n",
      "Threshold:  0.057999999999999996\n",
      "Bandwidth:  0.02\n"
     ]
    }
   ],
   "source": [
    "cc.ClustPlt(cutdata[2],thresopt = [0,0.1,0.001],bandopt = [0,1,0.01])"
   ]
  },
  {
   "cell_type": "markdown",
   "metadata": {
    "collapsed": true
   },
   "source": [
    "Generally, a smaller bandwidth and a larger threshold will produce more estimates, increasing the chances of finding more UPOs at the expense of the algorithm taking longer to complete. We choose a value of 0.058 for `thres` and 0.02 for `band`. As you can see from the fist cluster plot this clearly produces too many estimates for n = 2, but thats ok since `FindUPO` ensures that no UPOs are the same (with the exception being fixed points on the boundary). If two points are within a distance `tooclose` of each other they are regarded the same."
   ]
  },
  {
   "cell_type": "code",
   "execution_count": 15,
   "metadata": {
    "collapsed": false
   },
   "outputs": [],
   "source": [
    "UPOlistlist = [] \n",
    "for i in range(20): # WARNING: This takes a little while (a few min), but you can change 20 to smaller num if just testing\n",
    "    UPOlistlist.append(cc.FindUPO(data = cutdata[i], n = i+2, thres = 0.058, band = 0.02, pmap = stmap,tooclose = 0.0001))"
   ]
  },
  {
   "cell_type": "markdown",
   "metadata": {},
   "source": [
    "Using `appendUPOlists` we can join together all the UPOlists for the seperate period into one UPOlists containing all the different periods."
   ]
  },
  {
   "cell_type": "code",
   "execution_count": 16,
   "metadata": {
    "collapsed": true
   },
   "outputs": [],
   "source": [
    "fullUPOlist = cc.appendUPOlist(UPOfixed,UPOlistlist[0],stmap)\n",
    "for i in range(len(UPOlistlist) - 1):\n",
    "    fullUPOlist = cc.appendUPOlist(fullUPOlist,UPOlistlist[i+1],stmap)"
   ]
  },
  {
   "cell_type": "code",
   "execution_count": 17,
   "metadata": {
    "collapsed": false
   },
   "outputs": [
    {
     "data": {
      "text/plain": [
       "195"
      ]
     },
     "execution_count": 17,
     "metadata": {},
     "output_type": "execute_result"
    }
   ],
   "source": [
    "len(fullUPOlist)"
   ]
  },
  {
   "cell_type": "markdown",
   "metadata": {},
   "source": [
    "We have managed to find 195 UPOs for the standard map. \n",
    "\n",
    "For Poincare maps which are not analytically defined, `FindUPO` may take a little while. For this reason you can save UPOlists with `saveUPOlist`. The UPOlists are saved as pickle `.p` files since this type of file preserves the nested list structure. "
   ]
  },
  {
   "cell_type": "code",
   "execution_count": 18,
   "metadata": {
    "collapsed": false
   },
   "outputs": [],
   "source": [
    "cc.saveUPOlist(fullUPOlist,'stmapUPO.p')"
   ]
  },
  {
   "cell_type": "markdown",
   "metadata": {},
   "source": [
    "You can load the saved pickle files with `loadUPOlist`."
   ]
  },
  {
   "cell_type": "code",
   "execution_count": 19,
   "metadata": {
    "collapsed": true
   },
   "outputs": [],
   "source": [
    "loadedlist = cc.loadUPOlist('stmapUPO.p')"
   ]
  },
  {
   "cell_type": "markdown",
   "metadata": {},
   "source": [
    "Finally, if you would like to import the UPOlist into Mathematica, you can do so using the `toMathematica` function, which will either print the Mathematica list..."
   ]
  },
  {
   "cell_type": "code",
   "execution_count": 20,
   "metadata": {
    "collapsed": false
   },
   "outputs": [
    {
     "name": "stdout",
     "output_type": "stream",
     "text": [
      "[[1, [[3.1415923567286193, -1.4092026032640382e-06]]], [2, [[1.7690027999109383, 3.5380056069958123], [4.514182492440581, 2.745179692529643]]], [2, [[3.587794919868036, 4.349912392456878], [5.52106792742541, 1.933273007557374]]], [2, [[1.0229851114313881, 0.7513273593507477], [0.27165972485607437, 5.531859920604273]]], [2, [[0.7621171813290712, 4.349913192479792], [2.6953903181657193, 1.9332731368366485]]], [2, [[5.598159107358554, 4.913134658404882], [0.6850259733216486, 1.3700521731426805]]], [2, [[5.260199614486673, 5.531860259142722], [6.01152561707401, 0.7513260025873372]]], [2, [[3.1415926963760596, 1.214658014649664e-07], [3.141592578238769, 6.283185189042296]]], [2, [[-4.6291690364172853e-07, 3.1415954489522635], [3.1415923937006998, 3.1415928566176032]]]]\n"
     ]
    }
   ],
   "source": [
    "cc.toMathematica(UPOlistlist[0])"
   ]
  },
  {
   "cell_type": "markdown",
   "metadata": {},
   "source": [
    "... or export to a text file (preferable if the list is large)."
   ]
  },
  {
   "cell_type": "code",
   "execution_count": 21,
   "metadata": {
    "collapsed": true
   },
   "outputs": [],
   "source": [
    "cc.toMathematica(fullUPOlist,printer = False, filename = 'fullUPOMathmtca.txt')"
   ]
  },
  {
   "cell_type": "markdown",
   "metadata": {},
   "source": [
    "Below, you'll find a reference with all the functions discussed as well as some additional ones (such as a Jacobian finder) and also some chaotic maps. "
   ]
  },
  {
   "cell_type": "markdown",
   "metadata": {},
   "source": [
    "## Reference"
   ]
  },
  {
   "cell_type": "markdown",
   "metadata": {},
   "source": [
    "### UPO Finder"
   ]
  },
  {
   "cell_type": "markdown",
   "metadata": {},
   "source": [
    "ExportTimeSeries(filename,r0,n,pmapLst)\n",
    "\n",
    "\n",
    "    Exports time-series to a csv file.\n",
    "    \n",
    "    filename: name of csv file in form 'file.csv'\n",
    "    r0: [list] Intial point.\n",
    "    n: [Integer] Number of points.\n",
    "    pmapLst: [pmapLst(r0,n)] Function giving time-series.\n",
    "\n",
    "Load_Cut(datafile, cutoff, n, maxpts = 200000)\n",
    "\n",
    "\n",
    "    Loads csv data and calculates how far each point moves after a specified number of  applications of the map (appended at the end of each datapoint). Chooses points that move less than a specificied cut-off value. Returns array.\n",
    "    \n",
    "    filename: name of csv file in form 'file.csv'\n",
    "    cutoff: maximum distance cutoff value [positive float]\n",
    "    n: number of iterations of the map [positive integer]\n",
    "    maxpts:  maximum number of points [positive integer] (optional)\n",
    "    \n",
    "Cut(data, cutoff, n, maxpts = 200000)\n",
    "    \n",
    "    Takes map trajectory and calculates how far each point moves after a specified number of  applications of the map\n",
    "    (appended at the end of each data point). Chooses points that move less than a specificied cut-off value. Returns array.\n",
    "    dara: Trajectory in form [[x1[0],...,x1[d-1]],...,[xn[0],...,xn[d-1]]] for a d dimensional space an n data points. [List or array]\n",
    "    cutoff: maximum distance cutoff value [positive float]\n",
    "    n: number of iterations of the map [positive integer]\n",
    "    maxpts:  maximum number of points [positive integer] (optional)\n",
    "    \n",
    "ClustPlt_func(data, cluster, coord1 , coord2 , point_size , plot_size, thres, band, thresscale = 1, bandscale = 1)\n",
    "    \n",
    "    Function for interactive widget ClustPlt.\n",
    "    data: [d by n] array where there are n data points and data[i] = [r0,...,rd-1,dist(r)]  for all i where dist [i] is\n",
    "          distance moved by point. Load_Cut outputs this form of array.\n",
    "    cluster: [True/False] Decides whether to perform clustering or not.\n",
    "    coord1/coord2: [integer 0 to d-1] co-ordinate axis to plot.\n",
    "    pointsize: [Float] Size of points for matplotlib scatter.\n",
    "    plotsize: [Float] Size of matplotlib plot.\n",
    "    thres: [Float] Maximum distance moved for a point to be plotted.\n",
    "    band: [Float] Bandwidth for the clustering algorithm - roughly proportional t0 the size of clusters it will find\n",
    "    RETURNS: A plot of reccurring points with different colours for different clusters if clustering is True.\n",
    "   \n",
    "ClustPlt(data, thresopt = [0,2,0.01], bandopt = [0,50,1])\n",
    "    \n",
    "    Widget for ClustPlt_func.\n",
    "    data: [d + 1 by n] array where there are n data points and data[i] = [r0,...,rd-1,dist(r)]  for all i where dist [i] is\n",
    "          distance moved by point. Load_Cut outputs this form of array.\n",
    "    thresopt: (optional) [3 by 1 array] options for ClustPlt_func parameter thres in form [min, max, stepsize]\n",
    "    bandopt: (optional) [3 by 1 array] options for ClustPlt_func parameter band in form [min, max, stepsize]\n",
    "    \n",
    "FindUPO(data, n, thres, band, pmap, cluster = True,cutoff = 10`**`(-6),tooclose = 0.01,opttimes = 1)\n",
    "\n",
    "    \n",
    "    ------------------------------------------------------------------------------------------------\n",
    "    FindUPO: Finds estimates for locations Unstable Periodic Orbits in phase space for chaotic maps.\n",
    "    ------------------------------------------------------------------------------------------------\n",
    "    The initial guesses are obtained by identifying clusters of reccurring points in phase space and\n",
    "    choosing the one that moves the least. The initial guesses are then turned into accurate estimates\n",
    "    using local optimization. The estimates are then organized into their orbits. The algorithm ensures\n",
    "    that all the UPOs are distinct.\n",
    "\n",
    "    data: [List exported by Load_Cut] See Load_Cut. This is the initial data that the guesses are obtained from.\n",
    "    n: [Positive integer] See Load_cut. Highest period of UPO that we look for. The algorithm may also identify\n",
    "       UPOs with length of the divisors of n. Must be the same n as was used in Load_Cut.\n",
    "    thres: [Positive Float] Our initial cut-off for the distance moved by a point after n iterations of the map.\n",
    "           To obtain a good value for thres, see ClustPlt.\n",
    "    band: [Positive Float] Bandwidth for the clustering algorithm. Larger values correspond to larger clusters in general.\n",
    "           To obtain a good value for thres, see ClustPlt.\n",
    "    pmap: [function] map in question.\n",
    "    cluster: [Boolean] (optional) If true clustering procedure is perfored, otherwise everypoint is used as a guess.\n",
    "    cutoff: [Positive Float] (optional) The largest distance that a point can move in n iterations of a map to be considered a UPO.\n",
    "    tooclose: [Positive Float] (optional) Farthest distance between two points to be considered seperate.\n",
    "    optimes: [Positive Integer] (optional) Number of times local optimisation is performed. A value higher than 1 will\n",
    "            increase the time taken to perform the optimisation but may increase accuracy of estimates and may increase\n",
    "            the number of estimates achieved bu the algorithm, especially for higher period UPOs.\n",
    "\n",
    "    RETURNS: Nested list of UPO periods and trajectory in form:\n",
    "\n",
    "            UPOlist = [[n1,[r1_1,...,r1_n1]],\n",
    "                                 ...\n",
    "                       [nm,[rm_1,...,rm_nm]]]\n",
    "\n",
    "            Where m is number of estimates,\n",
    "                  ni is the period if the ith estimate,\n",
    "                  ri_j is a d by 1 list containing the location of the jth point of the ith estimate.\n",
    "\n",
    "    \n",
    "appendUPOlist(UPOlist1, UPOlist2, pmap, tooclose = 0.01)\n",
    "    \n",
    "    Combines lists of UPOs exported by FindUPOs, checking that no two are the same.\n",
    "    UPOlist1/UPOlist2: [Nested lists] UPO lists\n",
    "    dist: [Float function of state space] (optional) Distance function used.\n",
    "    tooclose: [Float] (optional) Farthest distance between two points to be considered seperate.\n",
    "    \n",
    "saveUPOlist(UPOlist,filename)\n",
    "    \n",
    "    Saves nested list, such a the UPO list exported by FindUPO to a pickle file.\n",
    "    UPOlist: [Nested list] List of UPOs such as the ine exported by FindUPO\n",
    "    filename: Name of file in the form: 'filename.p'\n",
    "\n",
    "loadUPOlist(filename)\n",
    "\n",
    "    Loads nested list, such a the UPO list exported by FindUPO from a pickle file.\n",
    "    filename: Name of file in the form: 'filename.p'\n",
    "\n",
    "toMathematica(UPOlist,printer = True, filename = False )\n",
    "    \n",
    "    Converts any python list to a Mathematica list and prints it and/or daves it to\n",
    "    a text file.\n",
    "    UPOlist: [list/array] List you wish to convert.\n",
    "    printer: (optional) [boolean] Pass True/False to turn printing on/off.\n",
    "    filename: (optional) [string] Name of file in form 'filename.txt'\n",
    "    "
   ]
  },
  {
   "cell_type": "markdown",
   "metadata": {},
   "source": [
    "### Jacobian Finder"
   ]
  },
  {
   "cell_type": "markdown",
   "metadata": {},
   "source": [
    "FindJac(r,pmap,n=1)\n",
    "\n",
    "    Finds Jacobian of the nth iterate of some map evaluated at a point r.\n",
    "    r: [list/array] Point to evaluate at.\n",
    "    pmap: [pmap(r)] Map in question.\n",
    "    n: [pos. integer] Number of iterates of the map.\n",
    "    \n",
    "FindB(r,pmapb,beval)\n",
    "\n",
    "    Finds the derivative of a map with respect to a parameter.\n",
    "    r: [list/array] Point to evaluate map at.\n",
    "    pmap: [pmap(r,b=#)] Map in question.\n",
    "    b: [parameter] Parameter in quesion.\n",
    "    beval: [float] Value of parameter to evaluate derivative.\n",
    "   \n",
    "JUPOB(UPOlist,pmap,pmapb,beval)\n",
    "\n",
    "    Useful for OGY control.\n",
    "    Given a UPOlist (see FindUPO), appends a list of Jacobians and B matrices\n",
    "    (derivative of map with respect to the control parameter) evaluated at each\n",
    "    point of the UPO. A row of the UPOlist (i.e. all the info for a single UPO)\n",
    "    is given back as,\n",
    "    UPOlist[i] = [n,[r1,...,rn],[Df(r1),...,Df(rn)],[B(r1),...,B(rn)]]\n",
    "    UPOlist: [nested list] List of periodic orbits in format given by FindUPO.\n",
    "    pmap: [pmap(r)] Map in question.\n",
    "    pmapb: [pmap(r,b)] Map in question with control parameter passed as second\n",
    "        parameter.\n",
    "    beval: [float] Non-control value for control parameter.\n",
    "    \n",
    "JUPO(UPOlist,pmap)\n",
    "    \n",
    "    Given a UPOlist (see FindUPO), appends a list of Jacobians evaluated at each\n",
    "    point of the UPO. A row of the UPOlist (i.e. all the info for a single UPO)\n",
    "    is given back as,\n",
    "    UPOlist[i] = [n,[r1,...,rn],[Df(r1),...,Df(rn)]]\n",
    "    UPOlist: [nested list] List of periodic orbits in format given by FindUPO.\n",
    "    pmap: [pmap(r)] Map in question.\n",
    "    "
   ]
  },
  {
   "cell_type": "markdown",
   "metadata": {},
   "source": [
    "### Control\n",
    "To be extended..."
   ]
  },
  {
   "cell_type": "markdown",
   "metadata": {},
   "source": [
    "acker(A,B,s)\n",
    "    \n",
    "    Ackermann's formula,\n",
    "    https://en.wikipedia.org/wiki/Ackermann%27s_formula\n",
    "    A:[matrix] Jacobian\n",
    "    B:[list/array] Derivative with respect to control parameter\n",
    "    s:[list] list of desired eigenvalues.\n",
    "    "
   ]
  },
  {
   "cell_type": "markdown",
   "metadata": {},
   "source": [
    "### Maps"
   ]
  },
  {
   "cell_type": "code",
   "execution_count": 45,
   "metadata": {
    "collapsed": true
   },
   "outputs": [],
   "source": [
    "# Henon map\n",
    "def henon(r,a = 1.4,b = 0.3):\n",
    "    return [1 - a*r[0]**2 + r[1], b*r[0]]\n",
    "\n",
    "def henonLst(r0,n):\n",
    "    out = [r0]\n",
    "    for i in range(n):\n",
    "        out.append(henon(out[-1]))\n",
    "    return out\n",
    "\n",
    "# Standard map\n",
    "def stmap(r,K=5.6):\n",
    "    pnxt = r[1] + K*sin(r[0])\n",
    "    xnxt = r[0] + pnxt\n",
    "    return [xnxt%(2*pi),pnxt%(2*pi)]\n",
    "\n",
    "def stmapLst(r0,n):\n",
    "    out = [r0]\n",
    "    for i in range(n):\n",
    "        out.append(stmap(out[-1]))\n",
    "    return out"
   ]
  },
  {
   "cell_type": "code",
   "execution_count": 46,
   "metadata": {
    "collapsed": true
   },
   "outputs": [],
   "source": [
    "from scipy.integrate import odeint\n",
    "'''\n",
    "Poincare return map for average Semiclassical Duffing\n",
    "r0: Initial condition [5 by 1 list\\array] \n",
    "RETURNS: [5 by 1 array]\n",
    "'''\n",
    "def SnDuffP(r0):\n",
    "    #Parameters\n",
    "    Gamma = 0.1\n",
    "    g = 0.3\n",
    "    omega = 1\n",
    "    beta = 0.2\n",
    "    theta = 0\n",
    "    dens = 3000\n",
    "    u = 1\n",
    "    u1 = u*cos(theta)\n",
    "    u2 = u*sin(theta)\n",
    "    \n",
    "    def f(r,t):\n",
    "        x = r[0]\n",
    "        p = r[1]\n",
    "        sx = r[2]\n",
    "        sp = r[3]\n",
    "        sxp = r[4]\n",
    "    \n",
    "        dxdt = p\n",
    "        dpdt = -(beta**2)*(x**3 + 3*sx*x) + x - 2*Gamma*p + (g/beta)*cos(omega*t)\n",
    "        dsxdt = 2.0*sxp + 0.5*Gamma*(1.0 - 4.0*(sxp**2 - sx + sx**2) +u1*(-1.0+4.0*((sxp**2) + sx - sx**2))+4.0*u2*(-sxp+2.0*sxp*sx))      \n",
    "        dspdt = 2.0*sxp - 6.0*(beta**2)*sxp*(x**2+sx) + 0.5*Gamma*(1.0-4.0*sp-4.0*(sp**2)-4.0*sxp**2 + u1*(1.0-4.0*sp+4.0*(sp**2)-4.0*sxp**2)+4.0*u2*(-sxp+2.0*sxp*sp))       \n",
    "        dsxpdt = -2.0*Gamma*(sxp*(sp+sx) - u1*sxp*(sp-sx)-0.25*u2*(1.0-2.0*sp+4.0*(sxp**2)-2.0*sx+4.0*sp*sx)) + sp +sx -3.0*(beta**2)*sx*(x**2+sx)       \n",
    "        drdt = np.array([dxdt,dpdt, dsxdt, dspdt, dsxpdt])\n",
    "       \n",
    "        return drdt\n",
    "    r0 = np.array([r0[0],r0[1],r0[2],r0[3],r0[4]])\n",
    "    out = odeint(f,r0,np.linspace(0,2*pi/omega,dens))[-1]\n",
    "    return out\n",
    "\n",
    "'''\n",
    "Poincare return map list for average Semiclassical Duffing (using SnDuffP)\n",
    "r0: [5 by 1 array] Initial condition  \n",
    "n: [positive integer] Number of points \n",
    "'''\n",
    "def SnDuffPLst(r0,n):\n",
    "    out = [r0]\n",
    "    for i in range(0,n,1):\n",
    "        out.append(SnDuffP(out[-1]))\n",
    "    return out "
   ]
  },
  {
   "cell_type": "code",
   "execution_count": 47,
   "metadata": {
    "collapsed": true
   },
   "outputs": [],
   "source": [
    "# Poincare section (stroboscopic) for Duffing oscillator.\n",
    "def DuffP(r0,b = 0.125, g = 3, omega = 1):\n",
    "\n",
    "    def f(r,t):\n",
    "    \n",
    "        x = r[0]\n",
    "        y = r[1]\n",
    "        drdt = np.array([ y, - 2*b*y + x - x**3 + g*cos(omega*t)])\n",
    "        return drdt\n",
    "    \n",
    "    tvals = np.linspace(0,2*pi,3)\n",
    "    temp = odeint(f,r0,tvals)[-1]\n",
    "    return temp\n",
    "\n",
    "def DuffPLst(r0,n):\n",
    "    out = [r0]\n",
    "    for i in range(0,n,1):\n",
    "        out.append(DuffP(out[-1]))\n",
    "    return out "
   ]
  },
  {
   "cell_type": "code",
   "execution_count": null,
   "metadata": {
    "collapsed": true
   },
   "outputs": [],
   "source": []
  }
 ],
 "metadata": {
  "kernelspec": {
   "display_name": "Python 3",
   "language": "python",
   "name": "python3"
  },
  "language_info": {
   "codemirror_mode": {
    "name": "ipython",
    "version": 3
   },
   "file_extension": ".py",
   "mimetype": "text/x-python",
   "name": "python",
   "nbconvert_exporter": "python",
   "pygments_lexer": "ipython3",
   "version": "3.6.0"
  },
  "widgets": {
   "state": {
    "43738eb98e9a4b75a3944923183578f4": {
     "views": [
      {
       "cell_index": 34
      }
     ]
    },
    "56251c928f524c658d70380661839daf": {
     "views": [
      {
       "cell_index": 34
      }
     ]
    },
    "5aaf4eedafeb4d869693ac2c4c5f7202": {
     "views": [
      {
       "cell_index": 34
      }
     ]
    },
    "76b928743b0b46f98e624b2bed7429bf": {
     "views": [
      {
       "cell_index": 34
      }
     ]
    },
    "905b366f269546e8b00e45bd09a1a1c4": {
     "views": [
      {
       "cell_index": 34
      }
     ]
    },
    "9e39223c908f4e3f94091758477feb54": {
     "views": [
      {
       "cell_index": 34
      }
     ]
    },
    "a83bd6d1ba83435787552a110daf4db6": {
     "views": [
      {
       "cell_index": 34
      }
     ]
    },
    "cff6650dd4284d8d83e045f31b647531": {
     "views": [
      {
       "cell_index": 34
      }
     ]
    },
    "d10f998898a6468dac8ef53d342b9905": {
     "views": [
      {
       "cell_index": 34
      }
     ]
    },
    "e7b58efd4316416b8362c5ffecc8709b": {
     "views": [
      {
       "cell_index": 34
      }
     ]
    }
   },
   "version": "1.2.0"
  }
 },
 "nbformat": 4,
 "nbformat_minor": 2
}
