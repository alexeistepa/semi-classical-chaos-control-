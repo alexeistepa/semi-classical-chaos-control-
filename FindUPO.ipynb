{
 "cells": [
  {
   "cell_type": "markdown",
   "metadata": {},
   "source": [
    "# Finding UPOs for 5 dimensional maps"
   ]
  },
  {
   "cell_type": "markdown",
   "metadata": {},
   "source": [
    "Prototype for the `FindUPO` function that estimates the location of unstable periodic orbits in phase space of 5 dimensional maps. Semiclassical Duffing with no noise is used as example."
   ]
  },
  {
   "cell_type": "code",
   "execution_count": 193,
   "metadata": {
    "collapsed": true
   },
   "outputs": [],
   "source": [
    "import numpy as np\n",
    "from math import *\n",
    "import scipy.integrate as spi\n",
    "import matplotlib.pyplot as plt\n",
    "import csv as csv\n",
    "from sklearn.cluster import MeanShift\n",
    "from scipy.optimize import minimize\n",
    "from ipywidgets import interact, fixed\n",
    "import pandas as pd"
   ]
  },
  {
   "cell_type": "markdown",
   "metadata": {},
   "source": [
    "### Code"
   ]
  },
  {
   "cell_type": "code",
   "execution_count": 180,
   "metadata": {
    "collapsed": true
   },
   "outputs": [],
   "source": [
    "'''\n",
    "Poincare return map for Semiclassical Duffing with No Noise\n",
    "r0: Initial condition [5 by 1 list\\array] \n",
    "RETURNS: [5 by 1 array]\n",
    "'''\n",
    "def SnDuffP(r0):\n",
    "    #Parameters\n",
    "    Gamma = 0.1\n",
    "    g = 0.3\n",
    "    omega = 1\n",
    "    beta = 0.2\n",
    "    theta = 0\n",
    "    dens = 3000\n",
    "    u = 1\n",
    "    u1 = u*cos(theta)\n",
    "    u2 = u*sin(theta)\n",
    "    \n",
    "    def f(r,t):\n",
    "        x = r[0]\n",
    "        p = r[1]\n",
    "        sx = r[2]\n",
    "        sp = r[3]\n",
    "        sxp = r[4]\n",
    "    \n",
    "        dxdt = p\n",
    "        dpdt = -(beta**2)*(x**3 + 3*sx*x) + x - 2*Gamma*p + (g/beta)*cos(omega*t)\n",
    "        dsxdt = 2.0*sxp + 0.5*Gamma*(1.0 - 4.0*(sxp**2 - sx + sx**2) +u1*(-1.0+4.0*((sxp**2) + sx - sx**2))+4.0*u2*(-sxp+2.0*sxp*sx))      \n",
    "        dspdt = 2.0*sxp - 6.0*(beta**2)*sxp*(x**2+sx) + 0.5*Gamma*(1.0-4.0*sp-4.0*(sp**2)-4.0*sxp**2 + u1*(1.0-4.0*sp+4.0*(sp**2)-4.0*sxp**2)+4.0*u2*(-sxp+2.0*sxp*sp))       \n",
    "        dsxpdt = -2.0*Gamma*(sxp*(sp+sx) - u1*sxp*(sp-sx)-0.25*u2*(1.0-2.0*sp+4.0*(sxp**2)-2.0*sx+4.0*sp*sx)) + sp +sx -3.0*(beta**2)*sx*(x**2+sx)       \n",
    "        drdt = np.array([dxdt,dpdt, dsxdt, dspdt, dsxpdt])\n",
    "       \n",
    "        return drdt\n",
    "    r0 = np.array([r0[0],r0[1],r0[2],r0[3],r0[4]])\n",
    "    out = spi.odeint(f,r0,np.linspace(0,2*pi/omega,dens))[-1]\n",
    "    return out\n",
    "\n",
    "'''\n",
    "Poincare return map list for Semiclassical Duffing with No Noise (using SnDuffP)\n",
    "r0: [5 by 1 array] Initial condition  \n",
    "n: [positive integer] Number of points \n",
    "'''\n",
    "def SnDuffPLst(r0,n):\n",
    "    out = [r0]\n",
    "    for i in range(0,n,1):\n",
    "        out.append(SnDuffP(out[-1]))\n",
    "    return out \n",
    "\n",
    "'''\n",
    "Ode's for semiclassical Duffing with no noise.\n",
    "'''\n",
    "def SnDuff_f(r,t):\n",
    "    #Parameters\n",
    "    Gamma = 0.1\n",
    "    g = 0.3\n",
    "    omega = 1\n",
    "    beta = 0.2\n",
    "    theta = 0\n",
    "    dens = 3000\n",
    "    u = 1\n",
    "    u1 = u*cos(theta)\n",
    "    u2 = u*sin(theta)\n",
    "       \n",
    "    x = r[0]\n",
    "    p = r[1]\n",
    "    sx = r[2]\n",
    "    sp = r[3]\n",
    "    sxp = r[4]\n",
    "\n",
    "    dxdt = p\n",
    "    dpdt = -(beta**2)*(x**3 + 3*sx*x) + x - 2*Gamma*p + (g/beta)*cos(omega*t)\n",
    "    dsxdt = 2.0*sxp + 0.5*Gamma*(1.0 - 4.0*(sxp**2 - sx + sx**2) +u1*(-1.0+4.0*((sxp**2) + sx - sx**2))+4.0*u2*(-sxp+2.0*sxp*sx))      \n",
    "    dspdt = 2.0*sxp - 6.0*(beta**2)*sxp*(x**2+sx) + 0.5*Gamma*(1.0-4.0*sp-4.0*(sp**2)-4.0*sxp**2 + u1*(1.0-4.0*sp+4.0*(sp**2)-4.0*sxp**2)+4.0*u2*(-sxp+2.0*sxp*sp))       \n",
    "    dsxpdt = -2.0*Gamma*(sxp*(sp+sx) - u1*sxp*(sp-sx)-0.25*u2*(1.0-2.0*sp+4.0*(sxp**2)-2.0*sx+4.0*sp*sx)) + sp +sx -3.0*(beta**2)*sx*(x**2+sx)       \n",
    "    drdt = np.array([dxdt,dpdt, dsxdt, dspdt, dsxpdt])\n",
    "\n",
    "    return drdt"
   ]
  },
  {
   "cell_type": "code",
   "execution_count": 5,
   "metadata": {
    "collapsed": false
   },
   "outputs": [],
   "source": [
    "'''\n",
    "Euclidean distance moved by a point r after n iterations of the map pmap(r,n) = SnDuffPLst(r,n).\n",
    "Let d be fimension of state space (5 in case of semiclassical Duffing)\n",
    "r: [d by 1 array] initial point\n",
    "n: number of iterations \n",
    "pmap: [function] (optional) map in question\n",
    "'''\n",
    "def dist(r,n, pmap = SnDuffPLst):\n",
    "    now = np.array(r)\n",
    "    then = pmap(r,n)[-1]\n",
    "    out = np.dot(now - then,now - then)\n",
    "    return out\n"
   ]
  },
  {
   "cell_type": "code",
   "execution_count": 12,
   "metadata": {
    "collapsed": true
   },
   "outputs": [],
   "source": [
    "'''\n",
    "Loads 5-d data and calculates how far each point moves after a specified number of  applications of the map\n",
    "(appends as a 6th value). Chooses points that move less than a specificied cut-off value. Returns array.\n",
    "filename: name of csv file in form 'file.csv'\n",
    "cutoff: maximum distance cutoff value [positive float]\n",
    "n: number of iterations of the map [positive integer]\n",
    "maxpts:  maximum number of points [positive integer] (optional)\n",
    "'''\n",
    "\n",
    "def Load_Cut(datafile, cutoff, n, maxpts = 200000):\n",
    "    # Import datafile\n",
    "    file = open(datafile, 'r')\n",
    "    datareader = csv.reader(file,delimiter=',')\n",
    "    data = []\n",
    "    lmter = 0\n",
    "    for row in datareader:\n",
    "        if lmter < maxpts:\n",
    "            data.append(row) \n",
    "            lmter += 1 \n",
    "        else: break \n",
    "    for i in range(0,len(data),1):\n",
    "        for j in range(0,len(data[i]),1):\n",
    "            data[i][j] = float(data[i][j])\n",
    "    \n",
    "    # Distance moved at nth point \n",
    "    def distmoved(i):\n",
    "        arr = np.array([data[i][0],data[i][1],data[i][2],data[i][3],data[i][4]]) - np.array([data[i+n][0],data[i+n][1],data[i+n][2],data[i+n][3],data[i+n][4]])\n",
    "        return np.inner(arr,arr)\n",
    "         \n",
    "    # Collects points that move less than cutoff    \n",
    "    under = []\n",
    "    for i in range(0,len(data)-n,1):\n",
    "        dist = distmoved(i)\n",
    "        if dist < cutoff:\n",
    "            under.append([data[i][0],data[i][1],data[i][2],data[i][3],data[i][4],dist])\n",
    "            \n",
    "    return under\n",
    "\n"
   ]
  },
  {
   "cell_type": "code",
   "execution_count": 55,
   "metadata": {
    "collapsed": true
   },
   "outputs": [],
   "source": [
    "'''\n",
    "Returns list of divisors of n\n",
    "n: [Positive integer]\n",
    "RETURNS: list\n",
    "'''\n",
    "def factor(n):\n",
    "    out = []\n",
    "    for i in range(1,n,1):\n",
    "        if n%i ==0:\n",
    "            out.append(i)\n",
    "    return out"
   ]
  },
  {
   "cell_type": "code",
   "execution_count": 219,
   "metadata": {
    "collapsed": false
   },
   "outputs": [],
   "source": [
    "'''\n",
    "-------------------------------------------------------------------------------\n",
    "FindUPO: Finds estimates for locations Unstable Periodic Orbits in phase space for 5-d maps. \n",
    "-------------------------------------------------------------------------------\n",
    "The initial guesses are obtained by identifying clusters of reccurring points in phase space and \n",
    "choosing the one that moves the least. The initial guesses are then turned into accurate estimates \n",
    "using local optimization. The estimates are then organized into their orbits. The algorithm ensures\n",
    "that all the UPOs are distinct. \n",
    "\n",
    "data: [List exported by Load_Cut] See Load_Cut. This is the initial data that the guesse are obtained from.\n",
    "n: [Positive integer] See Load_cut. Highest period of UPO that we look for. The algorithm may also identify \n",
    "   UPOs with length of the divisors of n. Must be the same n as was used in Load_Cut. \n",
    "thres: [Positive Float] Our initial cut-off for the distance moved by a point after n iterations of the map.\n",
    "       To obtain a good value for thres, see ClustPlt in Cluster Plot notebook.\n",
    "band: [Positive Float] Bandwidth for the clustering algorithm. Larger values correspond to larger clusters in general.\n",
    "       To obtain a good value for thres, see ClustPlt in Cluster Plot notebook.\n",
    "dist: [Float function of state space] (optional) Distance function used. \n",
    "cluster: [Boolean] (optional) If true clustering procedure is perfored, otherwise everypoint is used as a guess. \n",
    "cutoff: [Positive Float] (optional) The largest distance that a point can move in n iterations of a map to be considered a UPO.\n",
    "tooclose: [Positive Float] (optional) Farthest distance between two points to be considered seperate.\n",
    "optimes: [Positive Integer] (optional) Number of times local optimisation is performed. A value higher than 1 will \n",
    "        increase the time taken to perform the optimisation but may increase accuracy of estimates and may increase \n",
    "        the number of estimates achieved bu the algorithm, especially for higher period UPOs.\n",
    "        \n",
    "RETURNS: Nested list of UPO periods and trajectory in form:\n",
    "\n",
    "        UPOlist = [[n1,[r1_1,...,r1_n1]],\n",
    "                             ...\n",
    "                   [nm,[rm_1,...,rm_nm]]]\n",
    "                   \n",
    "        Where m is number of estimates,\n",
    "              ni is the period if the ith estimate,\n",
    "              ri_j is a 5 by 1 list containing the location of the jth point of the ith estimate.\n",
    "              \n",
    "'''\n",
    "def FindUPO(data, n, thres, band, dist = dist, cluster = True,cutoff = 10**(-6),tooclose = 0.01,opttimes = 1):\n",
    "    \n",
    "    # Apply threshold\n",
    "    \n",
    "    under = []\n",
    "    for i in range(len(data)):\n",
    "        if data[i][5] < thres:\n",
    "            under.append(data[i])\n",
    "\n",
    "    # Obtaining initial guesses\n",
    "    \n",
    "    justpoints = []\n",
    "    for i in range(len(under)):\n",
    "        justpoints.append(under[i][0:5])\n",
    "\n",
    "    if cluster == False: # Take all points\n",
    "        guesses = justpoints\n",
    "    else: # Take point in cluster that moves the least\n",
    "        guesses = []\n",
    "        ms = MeanShift(bandwidth=band, bin_seeding=True)\n",
    "        ms.fit(justpoints)\n",
    "        labels = ms.labels_\n",
    "        labels_unique = np.unique(labels)\n",
    "        for k in labels_unique:\n",
    "            tmp = []\n",
    "            for i in range(len(under)):\n",
    "                if labels[i] == k:\n",
    "                    tmp.append(under[i])\n",
    "            ind = np.argmin(np.transpose(tmp)[5])\n",
    "            guesses.append(tmp[ind][0:5])\n",
    "    \n",
    "    # Specific distance function\n",
    "    \n",
    "    def distn(r0):\n",
    "        return dist(r0,n)\n",
    "\n",
    "    # Improve guesses\n",
    "    \n",
    "    Impg = []\n",
    "    for i in range(len(guesses)):\n",
    "        tmp = guesses[i]\n",
    "        # Optimising  \n",
    "        for i in range(opttimes): # Throwing in a loading bar here is reccomended \n",
    "            tmp = minimize(distn,tmp).x\n",
    "        tmp = tmp.tolist()\n",
    "        tmp.append(distn(tmp))\n",
    "        Impg.append(tmp)\n",
    "\n",
    "    # Are they good enough?\n",
    "    \n",
    "    goodUPOs = []\n",
    "    for i in range(len(Impg)):\n",
    "        if Impg[i][5] < cutoff:\n",
    "            goodUPOs.append(Impg[i][0:5])\n",
    "\n",
    "    # Is it length n or shorter?\n",
    "    \n",
    "    def factor(n): #List of factors of n (i.e. possible lengths for shorter UPOs)\n",
    "        out = []\n",
    "        for i in range(1,n,1):\n",
    "            if n%i ==0:\n",
    "                out.append(i)\n",
    "        return out\n",
    "    f = factor(n) \n",
    "    \n",
    "    UPOs = []\n",
    "    for i in f:\n",
    "        def disttmp(r0):\n",
    "            return dist(r0,i)\n",
    "        dellist = [] \n",
    "        for j in range(len(goodUPOs)):\n",
    "            if disttmp(goodUPOs[j]) < cutoff:\n",
    "                dellist.append[j]\n",
    "        for j in dellist:\n",
    "            UPOs.append([i,goodUPOs[j]])\n",
    "            del goodUPOS[j]\n",
    "    for i in range(len(goodUPOs)):\n",
    "        UPOs.append([n,goodUPOs[i]])\n",
    "        \n",
    "    # Current structure:\n",
    "    # UPOs = [[n1,[r1[0],...,r1[4]]],\n",
    "    #              ...        \n",
    "    #         [nm,[rm[0],...,rm[4]]]]\n",
    "    \n",
    "    # Are there two in the same place?\n",
    "    \n",
    "    closelist = [] # List of indice pairs [i,j] such that the ith and ith UPOs are too close \n",
    "    for i in range(len(UPOs)):\n",
    "        if i < len(UPOs) - 1:\n",
    "            for j in range(i + 1,len(UPOs),1):\n",
    "                diff = np.array(UPOs[i][1]) - np.array(UPOs[j][1])\n",
    "                if np.dot(diff,diff) < tooclose and UPOs[i][0] == UPOs[j][0]:\n",
    "                    closelist.append([i,j]) \n",
    "    mergedlist = [] # List of all indices grouped together if their corresponding data points are too close    \n",
    "    \n",
    "    for i1 in range(len(UPOs)):\n",
    "        added = 0\n",
    "        related = [] # List of indices related to i1\n",
    "        for j1 in range(len(closelist)): \n",
    "            for j2 in range(len(closelist[j1])):\n",
    "                if closelist[j1][j2] == i1:\n",
    "                    j3 = (j2 + 1)%2\n",
    "                    related.append(closelist[j1][j3]) \n",
    "        for i2 in range(len(mergedlist)):\n",
    "            for i3 in range(len(mergedlist[i2])):\n",
    "                for i4 in range(len(related)):\n",
    "                    if related[i4] == mergedlist[i2][i3] and added == 0:\n",
    "                        mergedlist[i2].append(i1)\n",
    "                        added = 1\n",
    "        if added == 0:\n",
    "            mergedlist.append([i1])\n",
    "            \n",
    "    UPOstmp = [] \n",
    "    for i in range(len(mergedlist)): # Choosing best point of all groups of similar UPOs\n",
    "        minind = mergedlist[i][0]\n",
    "        for j in range(1,len(mergedlist[i])):   \n",
    "            if dist(UPOs[mergedlist[i][j]][1],UPOs[mergedlist[i][j]][0]) < dist(UPOs[minind][1],UPOs[minind][0]):\n",
    "                minind = mergedlist[i][j]\n",
    "        UPOstmp.append(UPOs[minind])\n",
    "        \n",
    "    UPOs = UPOstmp  \n",
    "    \n",
    "    # Linking Trajectories\n",
    "    \n",
    "    UPOstmp = []\n",
    "    for i in range(len(UPOs)):\n",
    "        orbit = SnDuffPLst(UPOs[i][1],UPOs[i][0] - 1) # full orbit \n",
    "        orbitlist = [] # converted to list \n",
    "        for j in range(len(orbit)):\n",
    "            orbitlist.append(np.array(orbit[j]).tolist())\n",
    "        UPOstmp.append([UPOs[i][0],orbitlist])\n",
    "    UPOs = UPOstmp\n",
    "\n",
    "    def closecheck(UPOs):\n",
    "        closelist = [] # List of indice pairs [i,j] such that the ith and ith UPOs are too close \n",
    "        for i in range(len(UPOs)):\n",
    "            if i < len(UPOs) - 1:\n",
    "                for j in range(i + 1,len(UPOs),1):\n",
    "                    if UPOs[i][0] == UPOs[j][0]:\n",
    "                        same = 0\n",
    "                        for k1 in range(len(UPOs[i][1])):\n",
    "                            for k2  in range(len(UPOs[j][1])):\n",
    "                                diff = np.array(UPOs[i][1][k1]) - np.array(UPOs[j][1][k2])\n",
    "                                if np.dot(diff,diff) < tooclose:\n",
    "                                    same = 1\n",
    "                        if same == 1:             \n",
    "                            closelist.append([i,j]) \n",
    "                            \n",
    "        mergedlist = [] # List of all indices grouped together if their corresponding data points are too close               \n",
    "        for i1 in range(len(UPOs)):\n",
    "            added = 0\n",
    "            related = [] # List of indices related to i1\n",
    "            for j1 in range(len(closelist)): \n",
    "                for j2 in range(len(closelist[j1])):\n",
    "                    if closelist[j1][j2] == i1:\n",
    "                        j3 = (j2 + 1)%2\n",
    "                        related.append(closelist[j1][j3]) \n",
    "            for i2 in range(len(mergedlist)):\n",
    "                for i3 in range(len(mergedlist[i2])):\n",
    "                    for i4 in range(len(related)):\n",
    "                        if related[i4] == mergedlist[i2][i3] and added == 0:\n",
    "                            mergedlist[i2].append(i1)\n",
    "                            added = 1\n",
    "            if added == 0:\n",
    "                mergedlist.append([i1])\n",
    "                \n",
    "        UPOstmp = [] \n",
    "        \n",
    "        for i in range(len(mergedlist)): # Choosing best point of all groups of similar UPOs\n",
    "            minind = mergedlist[i][0]\n",
    "            for j in range(1,len(mergedlist[i])):   \n",
    "                if dist(UPOs[mergedlist[i][j]][1][0],UPOs[mergedlist[i][j]][0]) < dist(UPOs[minind][1][0],UPOs[minind][0]):\n",
    "                    minind = mergedlist[i][j]\n",
    "            UPOstmp.append(UPOs[minind])\n",
    "        return UPOstmp   \n",
    "    \n",
    "    UPOs = closecheck(UPOs)\n",
    "    return UPOs\n",
    "\n",
    "    "
   ]
  },
  {
   "cell_type": "code",
   "execution_count": 220,
   "metadata": {
    "collapsed": true
   },
   "outputs": [],
   "source": [
    "'''\n",
    "Combines lists of UPOs exported by FindUPOs, checking that no two are the same.\n",
    "UPOlist1/UPOlist2: [Nested lists] UPO lists\n",
    "dist: [Float function of state space] (optional) Distance function used. \n",
    "tooclose: [Float] (optional) Farthest distance between two points to be considered seperate.\n",
    "'''\n",
    "def appendUPOlist(UPOlist1, UPOlist2, dist = dist, tooclose = 0.01):\n",
    "    \n",
    "    # Combining \n",
    "    UPOlist = []\n",
    "    for i in range(len(UPOlist1)):\n",
    "        UPOlist.append(UPOlist1[i])\n",
    "    for i in range(len(UPOlist2)):\n",
    "        UPOlist.append(UPOlist2[i])\n",
    "        \n",
    "    def closecheck(UPOs):\n",
    "        closelist = [] # List of indice pairs [i,j] such that the ith and ith UPOs are too close \n",
    "        for i in range(len(UPOs)):\n",
    "            if i < len(UPOs) - 1:\n",
    "                for j in range(i + 1,len(UPOs),1):\n",
    "                    if UPOs[i][0] == UPOs[j][0]:\n",
    "                        same = 0\n",
    "                        for k1 in range(len(UPOs[i][1])):\n",
    "                            for k2  in range(len(UPOs[j][1])):\n",
    "                                diff = np.array(UPOs[i][1][k1]) - np.array(UPOs[j][1][k2])\n",
    "                                if np.dot(diff,diff) < tooclose:\n",
    "                                    same = 1\n",
    "                        if same == 1:             \n",
    "                            closelist.append([i,j]) \n",
    "                            \n",
    "        mergedlist = [] # List of all indices grouped together if their corresponding data points are too close               \n",
    "        for i1 in range(len(UPOs)):\n",
    "            added = 0\n",
    "            related = [] # List of indices related to i1\n",
    "            for j1 in range(len(closelist)): \n",
    "                for j2 in range(len(closelist[j1])):\n",
    "                    if closelist[j1][j2] == i1:\n",
    "                        j3 = (j2 + 1)%2\n",
    "                        related.append(closelist[j1][j3]) \n",
    "            for i2 in range(len(mergedlist)):\n",
    "                for i3 in range(len(mergedlist[i2])):\n",
    "                    for i4 in range(len(related)):\n",
    "                        if related[i4] == mergedlist[i2][i3] and added == 0:\n",
    "                            mergedlist[i2].append(i1)\n",
    "                            added = 1\n",
    "            if added == 0:\n",
    "                mergedlist.append([i1])\n",
    "                \n",
    "        UPOstmp = [] \n",
    "        \n",
    "        for i in range(len(mergedlist)): # Choosing best point of all groups of similar UPOs\n",
    "            minind = mergedlist[i][0]\n",
    "            for j in range(1,len(mergedlist[i])):   \n",
    "                if dist(UPOs[mergedlist[i][j]][1][0],UPOs[mergedlist[i][j]][0]) < dist(UPOs[minind][1][0],UPOs[minind][0]):\n",
    "                    minind = mergedlist[i][j]\n",
    "            UPOstmp.append(UPOs[minind])\n",
    "        return UPOstmp \n",
    "    \n",
    "    return closecheck(UPOlist)\n",
    "    "
   ]
  },
  {
   "cell_type": "code",
   "execution_count": 223,
   "metadata": {
    "collapsed": true
   },
   "outputs": [],
   "source": [
    "'''\n",
    "Saves nested list, such a the UPO list exported by FindUPO to a pickle file.\n",
    "UPOlist: [Nested list] List of UPOs such as the ine exported by FindUPO\n",
    "datafilename: Name of file in the form: 'filename.p'\n",
    "'''\n",
    "def saveUPOlist(UPOlist,datafilename):\n",
    "    df = pd.DataFrame(UPOlist)\n",
    "    df.to_pickle(datafilename)\n",
    "    \n",
    "'''\n",
    "Loads nested list, such a the UPO list exported by FindUPO from a pickle file.\n",
    "datafilename: Name of file in the form: 'filename.p'\n",
    "'''\n",
    "def loadUPOlist(datafilename):\n",
    "    df = pd.read_pickle(datafilename)\n",
    "    dflist = df.values.tolist()\n",
    "    return dflist\n",
    "    "
   ]
  },
  {
   "cell_type": "markdown",
   "metadata": {},
   "source": [
    "### Testing"
   ]
  },
  {
   "cell_type": "code",
   "execution_count": 13,
   "metadata": {
    "collapsed": false
   },
   "outputs": [],
   "source": [
    "per1 = Load_Cut('31_05.csv',1,1)\n",
    "per2 = Load_Cut('31_05.csv',1,2)\n",
    "per5 = Load_Cut('31_05.csv',1,5)\n"
   ]
  },
  {
   "cell_type": "code",
   "execution_count": null,
   "metadata": {
    "collapsed": true
   },
   "outputs": [],
   "source": [
    "'''\n",
    "Values from ClustPlt\n",
    "\n",
    "data = per1\n",
    "n=1\n",
    "cluster = True\n",
    "thres = 1\n",
    "band = 0.1\n",
    "\n",
    "data = per2\n",
    "n=2\n",
    "cluster = True\n",
    "thres = 1\n",
    "band = 0.06\n",
    "\n",
    "data = per5\n",
    "n=5\n",
    "cluster = True\n",
    "thres = 1\n",
    "band = 0.081\n",
    "'''"
   ]
  },
  {
   "cell_type": "code",
   "execution_count": 174,
   "metadata": {
    "collapsed": false
   },
   "outputs": [
    {
     "name": "stderr",
     "output_type": "stream",
     "text": [
      "C:\\ProgramData\\Anaconda3\\lib\\site-packages\\scipy\\integrate\\odepack.py:218: ODEintWarning: Excess work done on this call (perhaps wrong Dfun type). Run with full_output = 1 to get quantitative information.\n",
      "  warnings.warn(warning_msg, ODEintWarning)\n"
     ]
    }
   ],
   "source": [
    "period1 = FindUPO(per1,1,1,0.1)"
   ]
  },
  {
   "cell_type": "code",
   "execution_count": 177,
   "metadata": {
    "collapsed": false
   },
   "outputs": [],
   "source": [
    "period2 = FindUPO(per2,2,1,0.06)"
   ]
  },
  {
   "cell_type": "code",
   "execution_count": 179,
   "metadata": {
    "collapsed": true
   },
   "outputs": [],
   "source": [
    "period5 = FindUPO(per5,5,1,0.08) # Takes a long time!"
   ]
  },
  {
   "cell_type": "code",
   "execution_count": 229,
   "metadata": {
    "collapsed": false
   },
   "outputs": [
    {
     "data": {
      "image/png": "[encoded data removed]",
      "text/html": [
       "<img src=data:image/png;base64,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 class=\"jupyter-widget\">\n",
       "<script type=\"application/vnd.jupyter-embedded-widgets\">[]</script>"
      ]
     },
     "metadata": {
      "isWidgetSnapshot": true
     },
     "output_type": "display_data"
    },
    {
     "data": {
      "image/png": "[encoded data removed]",
      "text/html": [
       "<img src=data:image/png;base64,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 class=\"jupyter-widget\">\n",
       "<script type=\"application/vnd.jupyter-embedded-widgets\">[]</script>"
      ]
     },
     "metadata": {
      "isWidgetSnapshot": true
     },
     "output_type": "display_data"
    },
    {
     "data": {
      "image/png": "[encoded data removed]",
      "text/plain": [
       "<matplotlib.figure.Figure at 0x1a1d6a9ca58>"
      ]
     },
     "metadata": {},
     "output_type": "display_data"
    },
    {
     "name": "stdout",
     "output_type": "stream",
     "text": [
      "Period:  1\n",
      "Distance moved :  3.91659663259e-13\n"
     ]
    },
    {
     "data": {
      "text/plain": [
       "<function __main__.UPOplot>"
      ]
     },
     "execution_count": 229,
     "metadata": {},
     "output_type": "execute_result"
    }
   ],
   "source": [
    "def UPOplot(UPOlist,i):\n",
    "    r0 = UPOlist[i][1][0]\n",
    "    tvals = np.linspace(0,2*pi*UPOlist[i][0],300)\n",
    "    traj = spi.odeint(SnDuff_f,r0,tvals)\n",
    "    traj = np.transpose(traj)\n",
    "    plt.plot(traj[0],traj[1])\n",
    "    plt.show()\n",
    "    print('Period: ', UPOlist[i][0])\n",
    "    print('Distance moved : ', dist(UPOlist[i][1][0],UPOlist[i][0]))\n",
    "\n",
    "interact(UPOplot, UPOlist = fixed(period1),i = (0, len(period1) - 1, 1))"
   ]
  },
  {
   "cell_type": "code",
   "execution_count": 221,
   "metadata": {
    "collapsed": false
   },
   "outputs": [],
   "source": [
    "# Combines above UPO lists and saves to file\n",
    "#saveUPOlist(appendUPOlist(appendUPOlist(period1,period2),period5),'testingUPOs.p')"
   ]
  },
  {
   "cell_type": "code",
   "execution_count": 224,
   "metadata": {
    "collapsed": false
   },
   "outputs": [],
   "source": [
    "# Loads saved file\n",
    "UPOlist = loadUPOlist('testingUPOs.p')"
   ]
  },
  {
   "cell_type": "code",
   "execution_count": 230,
   "metadata": {
    "collapsed": false
   },
   "outputs": [
    {
     "data": {
      "image/png": "[encoded data removed]",
      "text/html": [
       "<img src=data:image/png;base64,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 class=\"jupyter-widget\">\n",
       "<script type=\"application/vnd.jupyter-embedded-widgets\">[]</script>"
      ]
     },
     "metadata": {
      "isWidgetSnapshot": true
     },
     "output_type": "display_data"
    },
    {
     "data": {
      "image/png": "[encoded data removed]",
      "text/html": [
       "<img src=data:image/png;base64,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 class=\"jupyter-widget\">\n",
       "<script type=\"application/vnd.jupyter-embedded-widgets\">[]</script>"
      ]
     },
     "metadata": {
      "isWidgetSnapshot": true
     },
     "output_type": "display_data"
    },
    {
     "data": {
      "image/png": "[encoded data removed]",
      "text/plain": [
       "<matplotlib.figure.Figure at 0x1a1d835b2e8>"
      ]
     },
     "metadata": {},
     "output_type": "display_data"
    },
    {
     "name": "stdout",
     "output_type": "stream",
     "text": [
      "Period:  5\n",
      "Distance moved :  4.16762640116e-10\n"
     ]
    }
   ],
   "source": [
    "interact(UPOplot, UPOlist = fixed(UPOlist),i = (0, len(UPOlist) - 1, 1))"
   ]
  },
  {
   "cell_type": "markdown",
   "metadata": {},
   "source": [
    "### Development"
   ]
  },
  {
   "cell_type": "code",
   "execution_count": 161,
   "metadata": {
    "collapsed": false
   },
   "outputs": [],
   "source": [
    "data = per2\n",
    "n=2\n",
    "cluster = True\n",
    "thres = 1\n",
    "band = 0.06\n",
    "\n",
    "cutoff = 10**(-6)\n",
    "tooclose = 0.01\n",
    "opttimes = 1\n",
    "\n",
    "# Apply threshold\n",
    "under = []\n",
    "for i in range(len(data)):\n",
    "    if data[i][5] < thres:\n",
    "        under.append(data[i])\n",
    "\n",
    "# Obtaining initial guesses\n",
    "justpoints = []\n",
    "for i in range(len(under)):\n",
    "    justpoints.append(under[i][0:5])\n",
    "    \n",
    "if cluster == False: # Taking all points\n",
    "    guesses = justpoints\n",
    "else: # Taking point in cluster that moves the least\n",
    "    guesses = []\n",
    "    ms = MeanShift(bandwidth=band, bin_seeding=True)\n",
    "    ms.fit(justpoints)\n",
    "    labels = ms.labels_\n",
    "    labels_unique = np.unique(labels)\n",
    "    for k in labels_unique:\n",
    "        tmp = []\n",
    "        for i in range(len(under)):\n",
    "            if labels[i] == k:\n",
    "                tmp.append(under[i])\n",
    "        ind = np.argmin(np.transpose(tmp)[5])\n",
    "        guesses.append(tmp[ind][0:5])\n",
    "    \n",
    "            \n",
    "    \n"
   ]
  },
  {
   "cell_type": "code",
   "execution_count": 162,
   "metadata": {
    "collapsed": false
   },
   "outputs": [
    {
     "name": "stdout",
     "output_type": "stream",
     "text": [
      "15\n"
     ]
    },
    {
     "data": {
      "image/png": "[encoded data removed]",
      "text/plain": [
       "<matplotlib.figure.Figure at 0x1a1d61c60b8>"
      ]
     },
     "metadata": {},
     "output_type": "display_data"
    }
   ],
   "source": [
    "print(len(guesses))\n",
    "plt.scatter(np.transpose(guesses)[0],np.transpose(guesses)[1])\n",
    "plt.show()"
   ]
  },
  {
   "cell_type": "code",
   "execution_count": 163,
   "metadata": {
    "collapsed": false
   },
   "outputs": [],
   "source": [
    "# Specific distance function\n",
    "def distn(r0):\n",
    "    return dist(r0,n)\n",
    "\n",
    "# Improve guesses\n",
    "Impg = []\n",
    "for i in range(len(guesses)):\n",
    "    tmp = guesses[i]\n",
    "    # Optimising guesses\n",
    "    for i in range(opttimes): \n",
    "        tmp = minimize(distn,tmp).x\n",
    "    tmp = tmp.tolist()\n",
    "    tmp.append(distn(tmp))\n",
    "    Impg.append(tmp)\n",
    "    \n",
    "# Are they good enough?\n",
    "goodUPOs = []\n",
    "for i in range(len(Impg)):\n",
    "    if Impg[i][5] < cutoff:\n",
    "        goodUPOs.append(Impg[i][0:5])\n",
    "        \n",
    "# Is it length n or shorter?\n",
    "f = factor(n) #List of factors of n (i.e. possible lengths for shorter UPOs)\n",
    "UPOs = []\n",
    "for i in f:\n",
    "    def disttmp(r0):\n",
    "        return dist(r0,i)\n",
    "    dellist = [] \n",
    "    for j in range(len(goodUPOs)):\n",
    "        if disttmp(goodUPOs[j]) < cutoff:\n",
    "            dellist.append[j]\n",
    "    for j in dellist:\n",
    "        UPOs.append([i,goodUPOs[j]])\n",
    "        del goodUPOS[j]\n",
    "for i in range(len(goodUPOs)):\n",
    "    UPOs.append([n,goodUPOs[i]])\n",
    "\n",
    "#Current structure:\n",
    "#UPOs = [[n1,[r1[0],...,r1[4]]],\n",
    "#             ...        \n",
    "#        [nm,[rm[0],...,rm[4]]]]\n",
    "    \n",
    "\n"
   ]
  },
  {
   "cell_type": "code",
   "execution_count": 164,
   "metadata": {
    "collapsed": false
   },
   "outputs": [
    {
     "name": "stdout",
     "output_type": "stream",
     "text": [
      "[[0]]\n",
      "[[0], [1]]\n",
      "[[0], [1], [2]]\n",
      "[[0], [1], [2], [3]]\n",
      "[[0], [1], [2], [3], [4]]\n",
      "[[0], [1, 5], [2], [3], [4]]\n",
      "[[0], [1, 5], [2], [3], [4], [6]]\n",
      "[[0], [1, 5], [2], [3], [4], [6, 7]]\n",
      "[[0], [1, 5], [2], [3], [4], [6, 7], [8]]\n",
      "[[0], [1, 5, 9], [2], [3], [4], [6, 7], [8]]\n",
      "[[0], [1, 5, 9], [2, 10], [3], [4], [6, 7], [8]]\n",
      "[[0], [1, 5, 9, 11], [2, 10], [3], [4], [6, 7], [8]]\n",
      "[[0], [1, 5, 9, 11], [2, 10], [3], [4, 12], [6, 7], [8]]\n",
      "[[0], [1, 5, 9, 11], [2, 10], [3, 13], [4, 12], [6, 7], [8]]\n",
      "[[0, 14], [1, 5, 9, 11], [2, 10], [3, 13], [4, 12], [6, 7], [8]]\n"
     ]
    }
   ],
   "source": [
    "# Are there two in the same place?\n",
    "closelist = [] # List of indice pairs [i,j] such that the ith and ith UPOs are too close \n",
    "for i in range(len(UPOs)):\n",
    "    if i < len(UPOs) - 1:\n",
    "        for j in range(i+1,len(UPOs),1):\n",
    "            diff = np.array(UPOs[i][1]) - np.array(UPOs[j][1])\n",
    "            if np.dot(diff,diff) < tooclose and UPOs[i][0] == UPOs[j][0]:\n",
    "                closelist.append([i,j]) \n",
    "mergedlist = [] # List of all indices grouped together if their corresponding data points are too close               \n",
    "for i1 in range(len(UPOs)):\n",
    "    added = 0\n",
    "    related = [] # List of indices related to i1\n",
    "    for j1 in range(len(closelist)): \n",
    "        for j2 in range(len(closelist[j1])):\n",
    "            if closelist[j1][j2] == i1:\n",
    "                j3 = (j2 + 1)%2\n",
    "                related.append(closelist[j1][j3]) \n",
    "    for i2 in range(len(mergedlist)):\n",
    "        for i3 in range(len(mergedlist[i2])):\n",
    "            for i4 in range(len(related)):\n",
    "                if related[i4] == mergedlist[i2][i3] and added == 0:\n",
    "                    mergedlist[i2].append(i1)\n",
    "                    added = 1\n",
    "    if added == 0:\n",
    "        mergedlist.append([i1])\n",
    "    print(mergedlist)\n",
    "UPOstmp = [] \n",
    "for i in range(len(mergedlist)): # Choosing best point of all groups of similar UPOs\n",
    "    minind = mergedlist[i][0]\n",
    "    for j in range(1,len(mergedlist[i])):   \n",
    "        if dist(UPOs[mergedlist[i][j]][1],UPOs[mergedlist[i][j]][0]) < dist(UPOs[minind][1],UPOs[minind][0]):\n",
    "            minind = mergedlist[i][j]\n",
    "    UPOstmp.append(UPOs[minind])\n",
    "UPOs = UPOstmp           "
   ]
  },
  {
   "cell_type": "code",
   "execution_count": 165,
   "metadata": {
    "collapsed": false
   },
   "outputs": [
    {
     "data": {
      "text/plain": [
       "7"
      ]
     },
     "execution_count": 165,
     "metadata": {},
     "output_type": "execute_result"
    }
   ],
   "source": [
    "len(UPOs)"
   ]
  },
  {
   "cell_type": "code",
   "execution_count": 166,
   "metadata": {
    "collapsed": false
   },
   "outputs": [
    {
     "name": "stdout",
     "output_type": "stream",
     "text": [
      "[[0]]\n",
      "[[0], [1]]\n",
      "[[0, 2], [1]]\n",
      "[[0, 2], [1], [3]]\n",
      "[[0, 2], [1], [3, 4]]\n",
      "[[0, 2], [1], [3, 4], [5]]\n",
      "[[0, 2], [1, 6], [3, 4], [5]]\n"
     ]
    }
   ],
   "source": [
    "# Linking Trajectories\n",
    "UPOstmp = []\n",
    "for i in range(len(UPOs)):\n",
    "    orbit = SnDuffPLst(UPOs[i][1],UPOs[i][0] - 1) # full orbit \n",
    "    orbitlist = [] # converted to list \n",
    "    for j in range(len(orbit)):\n",
    "        orbitlist.append(np.array(orbit[j]).tolist())\n",
    "    UPOstmp.append([UPOs[i][0],orbitlist])\n",
    "UPOs = UPOstmp\n",
    "\n",
    "def closecheckmUPO(UPOs):\n",
    "    closelist = [] # List of indice pairs [i,j] such that the ith and ith UPOs are too close \n",
    "    for i in range(len(UPOs)):\n",
    "        if i < len(UPOs) - 1:\n",
    "            for j in range(i+1,len(UPOs),1):\n",
    "                diff = np.array(UPOs[i][1]) - np.array(UPOs[j][1])\n",
    "                if UPOs[i][0] == UPOs[j][0]:\n",
    "                    same = 0\n",
    "                    for k1 in range(len(UPOs[i][1])):\n",
    "                        for k2  in range(len(UPOs[j][1])):\n",
    "                            diff = np.array(UPOs[i][1][k1]) - np.array(UPOs[j][1][k2])\n",
    "                            if np.dot(diff,diff) < tooclose:\n",
    "                                same = 1\n",
    "                    if same == 1:             \n",
    "                        closelist.append([i,j]) \n",
    "    mergedlist = [] # List of all indices grouped together if their corresponding data points are too close               \n",
    "    for i1 in range(len(UPOs)):\n",
    "        added = 0\n",
    "        related = [] # List of indices related to i1\n",
    "        for j1 in range(len(closelist)): \n",
    "            for j2 in range(len(closelist[j1])):\n",
    "                if closelist[j1][j2] == i1:\n",
    "                    j3 = (j2 + 1)%2\n",
    "                    related.append(closelist[j1][j3]) \n",
    "        for i2 in range(len(mergedlist)):\n",
    "            for i3 in range(len(mergedlist[i2])):\n",
    "                for i4 in range(len(related)):\n",
    "                    if related[i4] == mergedlist[i2][i3] and added == 0:\n",
    "                        mergedlist[i2].append(i1)\n",
    "                        added = 1\n",
    "        if added == 0:\n",
    "            mergedlist.append([i1])\n",
    "    UPOstmp = [] \n",
    "    for i in range(len(mergedlist)): # Choosing best point of all groups of similar UPOs\n",
    "        minind = mergedlist[i][0]\n",
    "        for j in range(1,len(mergedlist[i])):   \n",
    "            if dist(UPOs[mergedlist[i][j]][1],UPOs[mergedlist[i][j]][0]) < dist(UPOs[minind][1],UPOs[minind][0]):\n",
    "                minind = mergedlist[i][j]\n",
    "        UPOstmp.append(UPOs[minind])\n",
    "    UPOstmp = [] \n",
    "    for i in range(len(mergedlist)): # Choosing best point of all groups of similar UPOs\n",
    "        minind = mergedlist[i][0]\n",
    "        for j in range(1,len(mergedlist[i])):   \n",
    "            if dist(UPOs[mergedlist[i][j]][1][0],UPOs[mergedlist[i][j]][0]) < dist(UPOs[minind][1][0],UPOs[minind][0]):\n",
    "                minind = mergedlist[i][j]\n",
    "        UPOstmp.append(UPOs[minind])\n",
    "    return UPOstmp   \n",
    "UPOs = closecheck(UPOs)\n"
   ]
  },
  {
   "cell_type": "code",
   "execution_count": null,
   "metadata": {
    "collapsed": true
   },
   "outputs": [],
   "source": []
  }
 ],
 "metadata": {
  "kernelspec": {
   "display_name": "Python 3",
   "language": "python",
   "name": "python3"
  },
  "language_info": {
   "codemirror_mode": {
    "name": "ipython",
    "version": 3
   },
   "file_extension": ".py",
   "mimetype": "text/x-python",
   "name": "python",
   "nbconvert_exporter": "python",
   "pygments_lexer": "ipython3",
   "version": "3.6.0"
  },
  "widgets": {
   "state": {
    "5a3c5f99f64c452c961ae5d248723d08": {
     "views": [
      {
       "cell_index": 15
      }
     ]
    },
    "a8bd6d55ecfe4495b0cb558327202d28": {
     "views": [
      {
       "cell_index": 18
      }
     ]
    }
   },
   "version": "1.2.0"
  }
 },
 "nbformat": 4,
 "nbformat_minor": 2
}
