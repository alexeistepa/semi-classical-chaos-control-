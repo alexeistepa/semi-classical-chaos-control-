{
 "cells": [
  {
   "cell_type": "markdown",
   "metadata": {},
   "source": [
    "# Bifurcation diagram export"
   ]
  },
  {
   "cell_type": "markdown",
   "metadata": {},
   "source": [
    "$\\textbf{Description:}$ Exports two csv files for a birfucation diagram with $A-q$ axis and $A-p$ axis."
   ]
  },
  {
   "cell_type": "code",
   "execution_count": 1,
   "metadata": {
    "collapsed": true
   },
   "outputs": [],
   "source": [
    "import numpy as np\n",
    "import matplotlib.pyplot as plt\n",
    "from math import *\n",
    "from scipy.integrate import odeint\n",
    "import csv\n",
    "from ipywidgets import FloatProgress\n",
    "from IPython.display import display\n",
    "from numba import jit\n",
    "import time"
   ]
  },
  {
   "cell_type": "code",
   "execution_count": 2,
   "metadata": {
    "collapsed": true
   },
   "outputs": [],
   "source": [
    "#function for integrator \n",
    "@jit\n",
    "def f(r,t,parameters):\n",
    "    #Parameters\n",
    "    b = parameters[0]\n",
    "    A = parameters[1]\n",
    "    om = parameters[2]\n",
    "    \n",
    "    x = r[0]\n",
    "    y = r[1]\n",
    "    drdt = np.array([ y, - 2*b*y + x - x**3 + A*cos(om*t)])\n",
    "    return drdt\n",
    "\n",
    "# integrator \n",
    "def Duff(r0,T, parameters):\n",
    "    # no. data points per cycle\n",
    "    dens = 500\n",
    "    def tempf(r,t):\n",
    "        return f(r,t,parameters)\n",
    "    tvals = np.linspace(0,2*pi*T,dens*T)\n",
    "    temp = odeint(tempf,r0,tvals)\n",
    "    return temp\n",
    "\n",
    "# for given parameters, chooses a random point evolves 100 periods and samples 100 poincare return maps. Repeats this 9 times.\n",
    "@jit\n",
    "def traj(parameters):    \n",
    "    para = np.array(parameters)\n",
    "    \n",
    "    temp = [[np.random.uniform(-1.5,1.5),np.random.uniform(-1,1)]]\n",
    "    for i in range(0,100,1):\n",
    "        temp = np.append(temp,[Duff(temp[-1],1,para)[-1]],axis=0)\n",
    "    traj = [temp[-1]]\n",
    "    for i in range(0,100,1):\n",
    "        traj = np.append(traj,[Duff(traj[-1],1,para)[-1]],axis=0)\n",
    "        \n",
    "    for j in range(0,4,1):\n",
    "        temp = np.append(temp,[[np.random.uniform(-1.5,0),np.random.uniform(-1,1)]],axis = 0)\n",
    "        for i in range(0,100,1):\n",
    "            temp = np.append(temp,[Duff(temp[-1],1,para)[-1]],axis=0)\n",
    "        traj = np.append(traj,[temp[-1]],axis=0)\n",
    "        for i in range(0,100,1):\n",
    "            traj = np.append(traj,[Duff(traj[-1],1,para)[-1]],axis=0)\n",
    "    \n",
    "    for j in range(0,4,1):\n",
    "        temp = np.append(temp,[[np.random.uniform(0,1.5),np.random.uniform(-1,1)]],axis = 0)\n",
    "        for i in range(0,100,1):\n",
    "            temp = np.append(temp,[Duff(temp[-1],1,para)[-1]],axis=0)\n",
    "        traj = np.append(traj,[temp[-1]],axis=0)\n",
    "        for i in range(0,100,1):\n",
    "            traj = np.append(traj,[Duff(traj[-1],1,para)[-1]],axis=0)    \n",
    "    \n",
    "    return traj\n",
    "\n",
    "#exports csv files of bifurcation diagrams in x and y with fixed om = 1 and b = 0.15 fixed. \n",
    "#F varies from first to last with num F values sampled. \n",
    "#filenamex and filenamey must be in quotation marks and have .csv at the end\n",
    "\n",
    "def bifurcation_diagram(first,last, num,filenamex,filenamey):\n",
    "    # prepares csv writer\n",
    "    csvfilex = open(filenamex, 'a', newline='') \n",
    "    writerx = csv.writer(csvfilex, delimiter=',')\n",
    "    csvfiley = open(filenamey, 'a', newline='') \n",
    "    writery = csv.writer(csvfiley, delimiter=',')\n",
    "\n",
    "    st = time.time() #timer\n",
    "    lbar = FloatProgress(min=0, max=num) #loading bar\n",
    "    display(lbar)\n",
    "    #main loop\n",
    "    for m in range(0,num,1):\n",
    "        lbar.value = m\n",
    "        # generates slice at certian F value\n",
    "        para = [0.15, first + m*(last-first)/num,1]\n",
    "        temp = traj(para)\n",
    "        # appends x values of slice with value of F (i.e. [[f,x1],...]) to file. similarly for y.\n",
    "        tmpx = [[0,0]]\n",
    "        tmpy = [[0,0]]\n",
    "        for i in range(0,len(temp),1):\n",
    "            tmpx = np.append(tmpx,np.array([[ first + m*(last-first)/num, temp[i][0]]]),axis = 0)\n",
    "            tmpx = np.delete(tmpx,0,0)\n",
    "            tmpy = np.append(tmpy,np.array([[ first + m*(last-first)/num, temp[i][1]]]),axis = 0)\n",
    "            tmpy = np.delete(tmpy,0,0)\n",
    "            writerx.writerows(tmpx)\n",
    "            writery.writerows(tmpy)\n",
    "\n",
    "    end = time.time()\n",
    "    print(end - st)\n",
    "\n",
    "    \n",
    "    "
   ]
  },
  {
   "cell_type": "code",
   "execution_count": 3,
   "metadata": {
    "collapsed": false
   },
   "outputs": [
    {
     "name": "stdout",
     "output_type": "stream",
     "text": [
      "11028.909650802612\n"
     ]
    }
   ],
   "source": [
    "bifurcation_diagram(0.205,0.226, 10000,'bifurcx_0p205to0p226_10000.csv','bifurcy_0p205to0p226_10000.csv')"
   ]
  },
  {
   "cell_type": "code",
   "execution_count": 5,
   "metadata": {
    "collapsed": false
   },
   "outputs": [
    {
     "name": "stdout",
     "output_type": "stream",
     "text": [
      "10057.25465297699\n"
     ]
    }
   ],
   "source": [
    "bifurcation_diagram(0.217,0.21925, 10000,'bifurcx_0p217to0p21925_10000.csv','bifurcy_0p217to0p21925_10000.csv')"
   ]
  },
  {
   "cell_type": "code",
   "execution_count": null,
   "metadata": {
    "collapsed": true
   },
   "outputs": [],
   "source": []
  }
 ],
 "metadata": {
  "kernelspec": {
   "display_name": "Python 3",
   "language": "python",
   "name": "python3"
  },
  "language_info": {
   "codemirror_mode": {
    "name": "ipython",
    "version": 3
   },
   "file_extension": ".py",
   "mimetype": "text/x-python",
   "name": "python",
   "nbconvert_exporter": "python",
   "pygments_lexer": "ipython3",
   "version": "3.6.0"
  },
  "widgets": {
   "state": {
    "7e30f69b7c9a45fca51ddf7b166ba324": {
     "views": [
      {
       "cell_index": 4
      }
     ]
    },
    "b2f098efb68e49b1b80991bb2698eccf": {
     "views": [
      {
       "cell_index": null
      }
     ]
    },
    "f2e42ebf3f024e53a091d3f9db73769a": {
     "views": [
      {
       "cell_index": 5
      }
     ]
    }
   },
   "version": "1.2.0"
  }
 },
 "nbformat": 4,
 "nbformat_minor": 2
}
