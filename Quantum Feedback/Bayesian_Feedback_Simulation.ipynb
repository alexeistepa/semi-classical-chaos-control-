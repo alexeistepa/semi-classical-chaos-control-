{
 "cells": [
  {
   "cell_type": "markdown",
   "metadata": {},
   "source": [
    "# Bayesian Quantum Feedback Simulations"
   ]
  },
  {
   "cell_type": "markdown",
   "metadata": {},
   "source": [
    "see https://arxiv.org/abs/cond-mat/0507011"
   ]
  },
  {
   "cell_type": "code",
   "execution_count": 2,
   "metadata": {
    "collapsed": true
   },
   "outputs": [],
   "source": [
    "import numpy as np\n",
    "from math import *\n",
    "import matplotlib.pyplot as plt\n",
    "import ipywidgets as widgets\n",
    "from scipy.integrate import odeint\n",
    "%matplotlib notebook"
   ]
  },
  {
   "cell_type": "markdown",
   "metadata": {},
   "source": [
    "## Code"
   ]
  },
  {
   "cell_type": "code",
   "execution_count": 3,
   "metadata": {
    "collapsed": true
   },
   "outputs": [],
   "source": [
    "def SRK2(f,g,r0,tvals,nstrength = 1):\n",
    "    \n",
    "    '''\n",
    "    Second order stochastic Runge-Kutta algorithm for integration of stochastic differential equations in Ito form:\n",
    "    dr = f(r,t)*dt + g(r,t)*dW. (Modified for Bayesian equations).\n",
    "\n",
    "    f: [Function taking and returning numpy arrays] Drift term of form f(r,t)\n",
    "    g: [Function taking and returning numpy arrays] Diffusion term of form g(r,t)\n",
    "    r0: [Array] Initial conditions\n",
    "    tvals: [Array] Time values for which to obtain solution\n",
    "\n",
    "    RETURNS: Solution matrix.\n",
    "    '''\n",
    "\n",
    "    r0 = np.array(r0)\n",
    "    out = np.zeros((len(tvals),len(r0)))\n",
    "    out[0] = r0\n",
    "    \n",
    "    for i in range(0,len(tvals) - 1, 1):\n",
    "        dt = tvals[i + 1] - tvals[i]\n",
    "        #dW = nstrength*np.random.normal(scale = np.sqrt(dt), size = len(r0))\n",
    "        dW = nstrength*np.random.normal(scale = np.sqrt(dt), size = 1)\n",
    "        \n",
    "        rn = out[i]\n",
    "        tn = tvals[i]\n",
    "        \n",
    "        \n",
    "        rn_b = rn + np.multiply(f(rn,tn),dt)+ g(rn,tn)*dW\n",
    "        rn_p = rn + np.multiply(f(rn,tn),dt) + g(rn,tn)*np.sqrt(dt)\n",
    "        rn_m = rn + np.multiply(f(rn,tn),dt) - g(rn,tn)*np.sqrt(dt)\n",
    "        \n",
    "        tmp = np.add(f(rn_b,tn),f(rn,tn))\n",
    "        \n",
    "        term1 = (1/2)*np.multiply(tmp,dt)\n",
    "        term2 = (1/4)*(g(rn_p,tn) + g(rn_b,tn) + 2*g(rn,tn))*dW\n",
    "        term3 = (1/4)*(g(rn_p,tn) - g(rn_m,tn))*(dW**2 - dt)*(1/dt)**(1/2)\n",
    "        \n",
    "        out[i + 1] = rn + term1 + term2 + term3 \n",
    "        \n",
    "    return out\n",
    "\n",
    "def f_bayQB(r,t,om=0,delI=0,SI=1,eps=1,gam=0):\n",
    "\n",
    "    '''\n",
    "    Deterministic Drift for Bayesian equations of motion of a Qubit with quantum point contact\n",
    "    like measurement device in Ito form: (32)-(33) Korotkov 2000,\n",
    "    https://arxiv.org/pdf/cond-mat/0008461.pdf.\n",
    "    \n",
    "    eps: [Float] Mixing Strength\n",
    "    delI: [Float] Differenence between average current of detector when QB is in Up or down state.\n",
    "    SI: [Float] Spectral density of current noise.\n",
    "    om: [Float] Energy asymmettry. \n",
    "    gam: [Float] Dephasing rate.\n",
    "    \n",
    "    r[0]:p11, r[1]:p22, r[2]:p12.real ,r[3]:p12.imag\n",
    "    '''\n",
    "    \n",
    "    tmp1 = - eps*r[3]\n",
    "    tmp2 = 1j*om*(r[2]+1j*r[3]) + 1j*(eps/2)*(r[0] - r[1]) - (gam + (delI**2)/(4*SI))*(r[2]+1j*r[3]) \n",
    "    \n",
    "    return np.array([tmp1,-tmp1,tmp2.real,tmp2.imag])\n",
    "\n",
    "def g_bayQB(r,t,om=0,delI=0,SI=1,eps=1,gam=0):\n",
    "\n",
    "    '''\n",
    "    Noise term for Bayesian equations of motion of a Qubit with quantum point contact\n",
    "    like measurement device in Ito form: (32)-(33) Korotkov 2000,\n",
    "    https://arxiv.org/pdf/cond-mat/0008461.pdf.\n",
    "    \n",
    "    eps: [Float] Mixing Strength\n",
    "    delI: [Float] Differenence between average current of detector when QB is in Up or down state.\n",
    "    SI: [Float] Spectral density of current noise.\n",
    "    om: [Float] Energy asymmettry. \n",
    "    gam: [Float] Dephasing rate.\n",
    "    \n",
    "    r[0]:p11, r[1]:p22, r[2]:p12.real ,r[3]:p12.imag\n",
    "    '''\n",
    "    \n",
    "    tmp1 = 2*r[0]*r[1]*(delI/SI)\n",
    "    tmp2 = - (r[0] - r[1])*(delI/SI)*(r[2]+1j*r[3])\n",
    "    \n",
    "    return np.array([tmp1,-tmp1,tmp2.real,tmp2.imag])"
   ]
  },
  {
   "cell_type": "markdown",
   "metadata": {},
   "source": [
    "## Feedback loop"
   ]
  },
  {
   "cell_type": "code",
   "execution_count": 4,
   "metadata": {
    "collapsed": true
   },
   "outputs": [],
   "source": [
    "def f_bayQBfb(r,t,om=0,delI=0,SI=1,eps=1,gam=0,F=1):\n",
    "\n",
    "    '''\n",
    "    Deterministic Drift for Bayesian feedback control system (Korotkov). IGNORE NOT YET WORKING \n",
    "    \n",
    "    F: [Float] Freedback Strength\n",
    "    H: [Float] Mixing Strength\n",
    "    delI: [Float] Difference between average current of detector when QB is in up or down state.\n",
    "    SI: [Float] Spectral density of current noise.\n",
    "    eps: [Float] Energy asymmettry. \n",
    "    gam: [Float] Dephasing rate.\n",
    "    \n",
    "    r[0]:p11, r[1]:p22, r[2]:p12.real ,r[3]:p12.imag\n",
    "    '''\n",
    "    # Control law for delta H\n",
    "    def deleps(r,t):\n",
    "        Om = 1\n",
    "        if abs(r[0] - r[1]) > 0.00001:\n",
    "            phi = (np.arctan((2*r[3])/(r[0] - r[1])) + (pi/2)*(1 + np.sign(r[0] - r[1])))%(2*np.pi)\n",
    "            delphi = phi - (Om*t)%(2*pi)  \n",
    "            return -F*(eps/2)*delphi\n",
    "        else:\n",
    "            return 0\n",
    "    \n",
    "    tmp1 = -(eps+deleps(r,t))*r[3]\n",
    "    tmp2 = 1j*om*(r[2]+1j*r[3]) + 1j*((eps+deleps(r,t))/2)*(r[0] - r[1]) - (gam + (delI**2)/(4*SI))*(r[2]+1j*r[3]) \n",
    "    \n",
    "    return np.array([tmp1,-tmp1,tmp2.real,tmp2.imag])"
   ]
  },
  {
   "cell_type": "code",
   "execution_count": 5,
   "metadata": {
    "collapsed": true
   },
   "outputs": [],
   "source": [
    "def f_bayQBfba(r,t,om=0,delI=0,SI=1,eps=1,gam=0,F=1, theta0 =0):\n",
    "\n",
    "    '''\n",
    "    Deterministic Drift for Bayesian feedback control system (Own attempt 1). For symmetric Qubit.\n",
    "    \n",
    "    F: [Float] Freedback Strength\n",
    "    H: [Float] Mixing Strength\n",
    "    delI: [Float] Difference between average current of detector when QB is in up or down state.\n",
    "    SI: [Float] Spectral density of current noise.\n",
    "    eps: [Float] Energy asymmettry. \n",
    "    gam: [Float] Dephasing rate.\n",
    "    \n",
    "    \n",
    "    r[0]:p11, r[1]:p22, r[2]:p12.real ,r[3]:p12.imag\n",
    "    '''\n",
    "    \n",
    "    # Control law for delta eps\n",
    "    \n",
    "    Om = 1\n",
    "    '''\n",
    "    def theta(r=r,t=t):\n",
    "        if abs(r[0] - r[1]) > 10**(-13):\n",
    "            # theta = arctan(y/z)\n",
    "            return np.arctan((2*r[3])/(r[0] - r[1]))\n",
    "        else:\n",
    "            return 0\n",
    "    '''\n",
    "\n",
    "    def theta(r=r,t=t):\n",
    "        if abs(r[0] - r[1]) > 10**(-13):\n",
    "            return  (np.arctan((2*r[3])/(r[0] - r[1])) + (np.pi/2)*(1 - np.sign(r[0]-r[1])))%(2*np.pi)\n",
    "        else:\n",
    "            return 0\n",
    "        \n",
    "    def thetad(r=r,t=t):\n",
    "        '''\n",
    "        Desired value for theta.\n",
    "        '''\n",
    "        return (theta0 + Om*t)%(2*np.pi) \n",
    "    \n",
    "    def shiftto_thd(th, thd):\n",
    "        '''\n",
    "        Shifts zero of our axis for theta so that thetad is at origin.\n",
    "        '''\n",
    "        tmp = (th - thd)%(2*np.pi) \n",
    "        return tmp\n",
    "    \n",
    "    th_sh = shiftto_thd(th = theta(), thd = thetad())\n",
    "    \n",
    "    def deleps(r,t):\n",
    "        if  th_sh >= np.pi:\n",
    "            delth = 2*np.pi - th_sh\n",
    "            return F*eps*delth\n",
    "        elif th_sh < np.pi:\n",
    "            delth = th_sh\n",
    "            return - F*eps*delth\n",
    "        \n",
    "    tmp1 = -(eps+deleps(r,t))*r[3]\n",
    "    tmp2 = 1j*om*(r[2]+1j*r[3]) + 1j*((eps+deleps(r,t))/2)*(r[0] - r[1]) - (gam + (delI**2)/(4*SI))*(r[2]+1j*r[3])\n",
    "    \n",
    "    return np.array([tmp1,-tmp1,tmp2.real,tmp2.imag])"
   ]
  },
  {
   "cell_type": "markdown",
   "metadata": {},
   "source": [
    "#### Without Feedback"
   ]
  },
  {
   "cell_type": "code",
   "execution_count": 6,
   "metadata": {
    "collapsed": true
   },
   "outputs": [],
   "source": [
    "# Parameters\n",
    "def fcust(r,t):\n",
    "    return f_bayQBfba(r,t,om=0,delI=1,SI=1,eps=1,gam=0, F=0,theta0 = 0)\n",
    "def gcust(r,t):\n",
    "    return g_bayQB(r,t,om=0,delI=1,SI=1,eps=1,gam=0)\n",
    "# Initial density matrix \n",
    "z = 1\n",
    "r0 = np.array([0.5*(1+z),0.5*(1-z),0.0,0.0])\n",
    "# Time values\n",
    "tvals = np.linspace(0,10,1000)\n",
    "# Simulation\n",
    "traj = SRK2(fcust,gcust,r0,tvals)\n",
    "# Simulation array --> Plotting array \n",
    "trajplt = np.transpose(traj)"
   ]
  },
  {
   "cell_type": "code",
   "execution_count": 7,
   "metadata": {},
   "outputs": [
    {
     "data": {
      "image/png": "[encoded data removed]",
      "text/plain": [
       "<matplotlib.figure.Figure at 0x7f11e81c09e8>"
      ]
     },
     "metadata": {},
     "output_type": "display_data"
    }
   ],
   "source": [
    "# Values to plot\n",
    "ylist = trajplt[3]\n",
    "zlist = trajplt[0] - trajplt[1]  \n",
    "thlist = np.arctan(ylist/zlist)\n",
    "# Plotting \n",
    "%matplotlib inline\n",
    "plt.plot(tvals,zlist)\n",
    "#plt.ylabel(r'$z $',fontsize=14)\n",
    "plt.xlabel(r'$ t $',fontsize=14)\n",
    "plt.show()"
   ]
  },
  {
   "cell_type": "markdown",
   "metadata": {},
   "source": [
    "#### With Feedback"
   ]
  },
  {
   "cell_type": "code",
   "execution_count": 8,
   "metadata": {
    "collapsed": true
   },
   "outputs": [],
   "source": [
    "# Parameters\n",
    "def fcust(r,t):\n",
    "    return f_bayQBfba(r,t,om=0,delI=1,SI=1,eps=1,gam=0, F=10,theta0 = 0)\n",
    "def gcust(r,t):\n",
    "    return g_bayQB(r,t,om=0,delI=1,SI=1,eps=1,gam=0)\n",
    "# Initial density matrix \n",
    "z = 1\n",
    "r0 = np.array([0.5*(1+z),0.5*(1-z),0.0,0.0])\n",
    "# Time values\n",
    "tvals = np.linspace(0,10,1000)\n",
    "# Simulation\n",
    "traj = SRK2(fcust,gcust,r0,tvals)\n",
    "# Simulation array --> Plotting array \n",
    "trajplt = np.transpose(traj)"
   ]
  },
  {
   "cell_type": "code",
   "execution_count": 9,
   "metadata": {},
   "outputs": [
    {
     "data": {
      "image/png": "[encoded data removed]",
      "text/plain": [
       "<matplotlib.figure.Figure at 0x7f11e4635d68>"
      ]
     },
     "metadata": {},
     "output_type": "display_data"
    }
   ],
   "source": [
    "# Values to plot\n",
    "ylist = trajplt[3]\n",
    "zlist = trajplt[0] - trajplt[1]  \n",
    "thlist = np.arctan(ylist/zlist)\n",
    "# Plotting \n",
    "%matplotlib inline\n",
    "plt.plot(tvals,zlist)\n",
    "#plt.ylabel(r'$z $',fontsize=14)\n",
    "plt.xlabel(r'$ t $',fontsize=14)\n",
    "plt.show()"
   ]
  },
  {
   "cell_type": "markdown",
   "metadata": {},
   "source": [
    "### Control diagnoser"
   ]
  },
  {
   "cell_type": "code",
   "execution_count": 10,
   "metadata": {
    "collapsed": true
   },
   "outputs": [],
   "source": [
    "def theta(r,t):\n",
    "    if abs(r[0] - r[1]) < 10**(-13):\n",
    "        print('zero z')\n",
    "    return  (np.arctan((2*r[3])/(r[0] - r[1])) + (np.pi/2)*(1 - np.sign(r[0]-r[1])))%(2*np.pi)\n",
    "\n",
    "def thetad(r,t,theta0 = 0,Om = 1):\n",
    "    '''\n",
    "    Desired value for theta.\n",
    "    '''\n",
    "    return (theta0 + Om*t)%(2*np.pi) \n",
    "\n",
    "def shiftto_thd(th, thd):\n",
    "    '''\n",
    "    Shifts zero of our axis for theta so that thetad is at origin.\n",
    "    '''\n",
    "    tmp = (th - thd)%(2*np.pi)\n",
    "    return tmp\n",
    "\n",
    "def deleps(r,t):\n",
    "    F = 1\n",
    "    eps = 1\n",
    "    th_sh = shiftto_thd(theta(r,t),thetad(r,t))\n",
    "    if  th_sh >= np.pi:\n",
    "        delth = 2*np.pi - th_sh\n",
    "        return F*eps*delth\n",
    "    elif th_sh < np.pi:\n",
    "        delth = th_sh\n",
    "        return -F*eps*delth\n",
    "    \n"
   ]
  },
  {
   "cell_type": "code",
   "execution_count": 11,
   "metadata": {
    "collapsed": true
   },
   "outputs": [],
   "source": [
    "# thetad\n",
    "thlist = []\n",
    "for i in range(len(traj)):\n",
    "    thlist.append(theta(traj[i],tvals[i]))\n",
    "    \n",
    "# thetad\n",
    "thdlist = []\n",
    "for i in range(len(traj)):\n",
    "    thdlist.append(thetad(traj[i],tvals[i]))\n",
    "    \n",
    "# deleps\n",
    "delepslist = []\n",
    "for i in range(len(traj)):\n",
    "    delepslist.append(deleps(traj[i],tvals[i]))\n",
    "\n"
   ]
  },
  {
   "cell_type": "code",
   "execution_count": 12,
   "metadata": {},
   "outputs": [
    {
     "data": {
      "image/png": "[encoded data removed]",
      "text/plain": [
       "<matplotlib.figure.Figure at 0x7f11dc729400>"
      ]
     },
     "metadata": {},
     "output_type": "display_data"
    }
   ],
   "source": [
    "%matplotlib inline\n",
    "plt.plot(tvals,thlist,label = 'th')\n",
    "plt.plot(tvals,thdlist,label = 'thd')\n",
    "plt.plot(tvals,delepslist,label = 'deleps')\n",
    "plt.legend()\n",
    "plt.show()"
   ]
  },
  {
   "cell_type": "code",
   "execution_count": null,
   "metadata": {
    "collapsed": true
   },
   "outputs": [],
   "source": []
  }
 ],
 "metadata": {
  "kernelspec": {
   "display_name": "Python 3",
   "language": "python",
   "name": "python3"
  },
  "language_info": {
   "codemirror_mode": {
    "name": "ipython",
    "version": 3
   },
   "file_extension": ".py",
   "mimetype": "text/x-python",
   "name": "python",
   "nbconvert_exporter": "python",
   "pygments_lexer": "ipython3",
   "version": "3.6.3"
  }
 },
 "nbformat": 4,
 "nbformat_minor": 2
}
