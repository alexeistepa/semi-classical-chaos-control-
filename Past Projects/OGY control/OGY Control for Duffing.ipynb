{
 "cells": [
  {
   "cell_type": "markdown",
   "metadata": {},
   "source": [
    "# OGY control of our Duffing Oscillator"
   ]
  },
  {
   "cell_type": "code",
   "execution_count": 23,
   "metadata": {},
   "outputs": [],
   "source": [
    "import numpy as np\n",
    "import matplotlib.pyplot as plt\n",
    "%matplotlib inline\n",
    "from math import *\n",
    "from scipy.integrate import odeint\n",
    "from control import acker"
   ]
  },
  {
   "cell_type": "markdown",
   "metadata": {},
   "source": [
    "### No Control"
   ]
  },
  {
   "cell_type": "code",
   "execution_count": 24,
   "metadata": {
    "collapsed": true
   },
   "outputs": [],
   "source": [
    "#Parameters\n",
    "\n",
    "b = 0.125\n",
    "g = 0.3\n",
    "omega = 1\n",
    "\n",
    "# no. poincare points:\n",
    "nu = 1\n",
    "# no. data points per cycle\n",
    "dens = 3000\n",
    "\n",
    "#Integration of trajectory\n",
    "\n",
    "def f(r,t):\n",
    "    x = r[0]\n",
    "    y = r[1]\n",
    "    z = r[2] \n",
    "    gvar = r[3]\n",
    "    drdt = np.array([ y, - 2*b*y + x - x**3 + gvar*cos(z)  , omega,0])\n",
    "    return drdt\n",
    "\n",
    "tvals = np.linspace(0,2*pi,dens)\n",
    "\n",
    "def p(r):\n",
    "    temp = odeint(f,r,tvals)[-1]\n",
    "    return temp\n",
    "\n",
    "# r is intial point, n is number of iterations\n",
    "def nocontrol(r,n):\n",
    "    a = []\n",
    "    temp = r\n",
    "    for i in range(1,n,1):\n",
    "        a.append(temp)\n",
    "        temp = p(temp)\n",
    "    return a\n"
   ]
  },
  {
   "cell_type": "code",
   "execution_count": 25,
   "metadata": {},
   "outputs": [],
   "source": [
    "r0 = np.array([0,0,0,g])\n",
    "n = 1000\n"
   ]
  },
  {
   "cell_type": "code",
   "execution_count": 26,
   "metadata": {},
   "outputs": [],
   "source": [
    "traj1 = nocontrol(r0,n)"
   ]
  },
  {
   "cell_type": "code",
   "execution_count": 27,
   "metadata": {
    "collapsed": true
   },
   "outputs": [],
   "source": [
    "traj1x, traj1y = [], []\n",
    "for i in range(0,len(traj1),1):\n",
    "    traj1x.append(traj1[i][0])\n",
    "    traj1y.append(traj1[i][1])"
   ]
  },
  {
   "cell_type": "markdown",
   "metadata": {},
   "source": [
    "#### Plot of x for Duffing oscillator with no control"
   ]
  },
  {
   "cell_type": "code",
   "execution_count": 28,
   "metadata": {
    "scrolled": true
   },
   "outputs": [
    {
     "data": {
      "image/png": "[encoded data removed]",
      "text/plain": [
       "<matplotlib.figure.Figure at 0x7efefc36b4e0>"
      ]
     },
     "metadata": {},
     "output_type": "display_data"
    }
   ],
   "source": [
    "plt.plot(traj1x)\n",
    "plt.show()"
   ]
  },
  {
   "cell_type": "markdown",
   "metadata": {},
   "source": [
    "### Control System"
   ]
  },
  {
   "cell_type": "code",
   "execution_count": 29,
   "metadata": {},
   "outputs": [],
   "source": [
    "A = [[-3.928861781731693,-4.992392085474836],\n",
    "     [-3.24230845140935,-4.172901887729245 ]]\n"
   ]
  },
  {
   "cell_type": "markdown",
   "metadata": {},
   "source": [
    "#### B"
   ]
  },
  {
   "cell_type": "code",
   "execution_count": 30,
   "metadata": {
    "collapsed": true
   },
   "outputs": [],
   "source": [
    "B = [[-8.67170099928552],\n",
    "     [-6.834277477388746]]"
   ]
  },
  {
   "cell_type": "code",
   "execution_count": 31,
   "metadata": {},
   "outputs": [],
   "source": [
    "# eigenvalues of A\n",
    "\n",
    "l1 = np.linalg.eigvals(A)[0]\n",
    "l2 = np.linalg.eigvals(A)[1]\n",
    "\n",
    "# desired eigenvalues\n",
    "\n",
    "a1 = 0\n",
    "a2 = 0\n",
    "if abs(l1) < 1:\n",
    "    a1 = l1\n",
    "if abs(l2) < 1:\n",
    "    a2 = l2\n",
    "\n",
    "#control package ackermann formula\n",
    "\n",
    "L = [a1,a2]\n",
    "Ktemp = acker(A,B,L)\n",
    "K = np.array([Ktemp[0,0],Ktemp[0,1]])\n",
    "          \n"
   ]
  },
  {
   "cell_type": "markdown",
   "metadata": {},
   "source": [
    "#### Fixed point"
   ]
  },
  {
   "cell_type": "code",
   "execution_count": 32,
   "metadata": {},
   "outputs": [],
   "source": [
    "fixed = np.array([0.12900567, 0.19367941])"
   ]
  },
  {
   "cell_type": "markdown",
   "metadata": {},
   "source": [
    "#### Max pertubation of parameter"
   ]
  },
  {
   "cell_type": "code",
   "execution_count": 33,
   "metadata": {
    "collapsed": true
   },
   "outputs": [],
   "source": [
    "maxpert = 0.1"
   ]
  },
  {
   "cell_type": "code",
   "execution_count": 34,
   "metadata": {
    "collapsed": true
   },
   "outputs": [],
   "source": [
    "def control(z,n):\n",
    "    x = z[0]\n",
    "    y = z[1]\n",
    "    a = [np.array([x,y,0,g])]\n",
    "    for i in range(0,n,1):\n",
    "        x, y = a[i][0], a[i][1]\n",
    "        state = np.array([x,y])\n",
    "        pert = state - fixed\n",
    "        dgtemp = - np.dot(K,pert)\n",
    "        dg = 0\n",
    "        if abs(dgtemp) < maxpert*g:\n",
    "            dg = dgtemp\n",
    "        r0temp = np.array([x,y,0,g + dg])\n",
    "        rtemp = odeint(f,r0temp,tvals)[-1]\n",
    "        a.append(rtemp)\n",
    "    return a"
   ]
  },
  {
   "cell_type": "code",
   "execution_count": 35,
   "metadata": {},
   "outputs": [],
   "source": [
    "#initial conditions\n",
    "r0 = [0.2,0]\n",
    "\n",
    "rvals = control(np.array([r0[0],r0[1]]),1000)"
   ]
  },
  {
   "cell_type": "code",
   "execution_count": 36,
   "metadata": {},
   "outputs": [],
   "source": [
    "xvals, yvals, dgvals = [],[],[]\n",
    "for i in range(0,len(rvals),1):\n",
    "    xvals.append(rvals[i][0])\n",
    "    yvals.append(rvals[i][1])\n",
    "    dgvals.append(rvals[i][3] - g)\n"
   ]
  },
  {
   "cell_type": "markdown",
   "metadata": {},
   "source": [
    "#### x control values"
   ]
  },
  {
   "cell_type": "code",
   "execution_count": 37,
   "metadata": {},
   "outputs": [
    {
     "data": {
      "image/png": "[encoded data removed]",
      "text/plain": [
       "<matplotlib.figure.Figure at 0x7eff057275f8>"
      ]
     },
     "metadata": {},
     "output_type": "display_data"
    }
   ],
   "source": [
    "plt.plot(xvals)\n",
    "plt.show()"
   ]
  },
  {
   "cell_type": "markdown",
   "metadata": {},
   "source": [
    "#### y control values "
   ]
  },
  {
   "cell_type": "code",
   "execution_count": 38,
   "metadata": {},
   "outputs": [
    {
     "data": {
      "image/png": "[encoded data removed]",
      "text/plain": [
       "<matplotlib.figure.Figure at 0x7efefc365080>"
      ]
     },
     "metadata": {},
     "output_type": "display_data"
    }
   ],
   "source": [
    "plt.plot(yvals)\n",
    "plt.show()"
   ]
  },
  {
   "cell_type": "markdown",
   "metadata": {},
   "source": [
    "#### dF values"
   ]
  },
  {
   "cell_type": "code",
   "execution_count": 39,
   "metadata": {},
   "outputs": [
    {
     "data": {
      "image/png": "[encoded data removed]",
      "text/plain": [
       "<matplotlib.figure.Figure at 0x7efefc2cc860>"
      ]
     },
     "metadata": {},
     "output_type": "display_data"
    }
   ],
   "source": [
    "plt.plot(dgvals)\n",
    "plt.show()"
   ]
  },
  {
   "cell_type": "code",
   "execution_count": 40,
   "metadata": {},
   "outputs": [
    {
     "name": "stdout",
     "output_type": "stream",
     "text": [
      "[[-3.928861781731693, -4.992392085474836], [-3.24230845140935, -4.172901887729245]]\n"
     ]
    }
   ],
   "source": [
    "print(A)"
   ]
  },
  {
   "cell_type": "code",
   "execution_count": 41,
   "metadata": {},
   "outputs": [
    {
     "name": "stdout",
     "output_type": "stream",
     "text": [
      "[[-8.67170099928552], [-6.834277477388746]]\n"
     ]
    }
   ],
   "source": [
    "print(B)"
   ]
  },
  {
   "cell_type": "code",
   "execution_count": 42,
   "metadata": {},
   "outputs": [
    {
     "name": "stdout",
     "output_type": "stream",
     "text": [
      "[ 0.12900567  0.19367941]\n"
     ]
    }
   ],
   "source": [
    "print(fixed)"
   ]
  },
  {
   "cell_type": "code",
   "execution_count": null,
   "metadata": {
    "collapsed": true
   },
   "outputs": [],
   "source": []
  }
 ],
 "metadata": {
  "kernelspec": {
   "display_name": "Python 3",
   "language": "python",
   "name": "python3"
  },
  "language_info": {
   "codemirror_mode": {
    "name": "ipython",
    "version": 3
   },
   "file_extension": ".py",
   "mimetype": "text/x-python",
   "name": "python",
   "nbconvert_exporter": "python",
   "pygments_lexer": "ipython3",
   "version": "3.6.3"
  }
 },
 "nbformat": 4,
 "nbformat_minor": 1
}
